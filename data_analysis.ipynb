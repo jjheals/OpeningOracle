{
 "cells": [
  {
   "cell_type": "code",
   "execution_count": 1,
   "metadata": {},
   "outputs": [],
   "source": [
    "from gensim import corpora\n",
    "from gensim.models import LdaModel\n",
    "import json\n",
    "from data_analysis.OpeningLDA import OpeningLDA\n",
    "from classes.QueryHandler import QueryHandler"
   ]
  },
  {
   "cell_type": "code",
   "execution_count": 2,
   "metadata": {},
   "outputs": [
    {
     "name": "stdout",
     "output_type": "stream",
     "text": [
      "Getting texts\n",
      "New len(self.texts): 353\n"
     ]
    },
    {
     "ename": "IndexError",
     "evalue": "index 353 is out of bounds for axis 0 with size 353",
     "output_type": "error",
     "traceback": [
      "\u001b[1;31m---------------------------------------------------------------------------\u001b[0m",
      "\u001b[1;31mIndexError\u001b[0m                                Traceback (most recent call last)",
      "\u001b[1;32mc:\\Users\\jjhea\\OneDrive\\WPI\\Fall-23\\CS547-Information_Retrieval\\OpeningOracle\\OpeningOracle\\data_analysis.ipynb Cell 2\u001b[0m line \u001b[0;36m1\n\u001b[1;32m----> <a href='vscode-notebook-cell:/c%3A/Users/jjhea/OneDrive/WPI/Fall-23/CS547-Information_Retrieval/OpeningOracle/OpeningOracle/data_analysis.ipynb#W1sZmlsZQ%3D%3D?line=0'>1</a>\u001b[0m opening_lda \u001b[39m=\u001b[39m OpeningLDA(num_passes\u001b[39m=\u001b[39;49m\u001b[39m15\u001b[39;49m) \n\u001b[0;32m      <a href='vscode-notebook-cell:/c%3A/Users/jjhea/OneDrive/WPI/Fall-23/CS547-Information_Retrieval/OpeningOracle/OpeningOracle/data_analysis.ipynb#W1sZmlsZQ%3D%3D?line=2'>3</a>\u001b[0m \u001b[39mprint\u001b[39m(\u001b[39mlen\u001b[39m(opening_lda\u001b[39m.\u001b[39mtexts\u001b[39m.\u001b[39mkeys()))\n\u001b[0;32m      <a href='vscode-notebook-cell:/c%3A/Users/jjhea/OneDrive/WPI/Fall-23/CS547-Information_Retrieval/OpeningOracle/OpeningOracle/data_analysis.ipynb#W1sZmlsZQ%3D%3D?line=3'>4</a>\u001b[0m opening_lda\u001b[39m.\u001b[39mlda_model\u001b[39m.\u001b[39mprint_topics(num_words\u001b[39m=\u001b[39m\u001b[39m15\u001b[39m)\n",
      "File \u001b[1;32mc:\\Users\\jjhea\\OneDrive\\WPI\\Fall-23\\CS547-Information_Retrieval\\OpeningOracle\\OpeningOracle\\data_analysis\\OpeningLDA.py:87\u001b[0m, in \u001b[0;36mOpeningLDA.__init__\u001b[1;34m(self, num_topics, num_passes, autotrain)\u001b[0m\n\u001b[0;32m     85\u001b[0m     \u001b[39m# Training \u001b[39;00m\n\u001b[0;32m     86\u001b[0m     \u001b[39mself\u001b[39m\u001b[39m.\u001b[39m__lda__()\n\u001b[1;32m---> 87\u001b[0m     \u001b[39mself\u001b[39;49m\u001b[39m.\u001b[39;49m__construct_topic_doc_matrix__()\n\u001b[0;32m     88\u001b[0m \u001b[39melse\u001b[39;00m: \n\u001b[0;32m     89\u001b[0m     \u001b[39m# If not autotrain, then assume this is being used to create an OpeningLDA model from a pre-trained LDA model\u001b[39;00m\n\u001b[0;32m     90\u001b[0m     \u001b[39m# most likely using OpeningLDA.__from_pretrained_model__() via OpeningLDA.load()\u001b[39;00m\n\u001b[0;32m     91\u001b[0m     \u001b[39mself\u001b[39m\u001b[39m.\u001b[39mnum_topics \u001b[39m=\u001b[39m \u001b[39m-\u001b[39m\u001b[39m1\u001b[39m\n",
      "File \u001b[1;32mc:\\Users\\jjhea\\OneDrive\\WPI\\Fall-23\\CS547-Information_Retrieval\\OpeningOracle\\OpeningOracle\\data_analysis\\OpeningLDA.py:142\u001b[0m, in \u001b[0;36mOpeningLDA.__construct_topic_doc_matrix__\u001b[1;34m(self)\u001b[0m\n\u001b[0;32m    139\u001b[0m \u001b[39mif\u001b[39;00m \u001b[39mnot\u001b[39;00m this_eco \u001b[39min\u001b[39;00m \u001b[39mself\u001b[39m\u001b[39m.\u001b[39mtexts: \u001b[39mcontinue\u001b[39;00m\n\u001b[0;32m    141\u001b[0m \u001b[39m# Use self.process_new_text to process the description and save the result in self.topic_doc_matrix[i]\u001b[39;00m\n\u001b[1;32m--> 142\u001b[0m \u001b[39mself\u001b[39;49m\u001b[39m.\u001b[39;49mtopic_doc_matrix[i] \u001b[39m=\u001b[39m \u001b[39mself\u001b[39m\u001b[39m.\u001b[39mprocess_new_text(\u001b[39mself\u001b[39m\u001b[39m.\u001b[39mtexts[this_eco])\n",
      "\u001b[1;31mIndexError\u001b[0m: index 353 is out of bounds for axis 0 with size 353"
     ]
    }
   ],
   "source": [
    "opening_lda = OpeningLDA(num_passes=15) \n",
    "\n",
    "print(len(opening_lda.texts.keys()))\n",
    "opening_lda.lda_model.print_topics(num_words=15)\n",
    "\n",
    "opening_lda.save('lda')\n"
   ]
  },
  {
   "cell_type": "code",
   "execution_count": null,
   "metadata": {},
   "outputs": [],
   "source": [
    "opening_lda = OpeningLDA.load(\"lda2\")"
   ]
  },
  {
   "cell_type": "code",
   "execution_count": null,
   "metadata": {},
   "outputs": [],
   "source": [
    "opening_lda.__construct_topic_doc_matrix__()"
   ]
  },
  {
   "cell_type": "code",
   "execution_count": null,
   "metadata": {},
   "outputs": [],
   "source": [
    "query_handler = QueryHandler()\n",
    "query_handler.opening_lda = opening_lda\n",
    "\n",
    "sample_query1 = { \n",
    "                 \"message\": \"capture the center, develop light square bishop\",\n",
    "                 \"color\": \"white\" \n",
    "}\n",
    "query_handler.handle_user_query(sample_query1, debug=True)"
   ]
  },
  {
   "cell_type": "code",
   "execution_count": null,
   "metadata": {},
   "outputs": [],
   "source": []
  }
 ],
 "metadata": {
  "kernelspec": {
   "display_name": "Python 3",
   "language": "python",
   "name": "python3"
  },
  "language_info": {
   "codemirror_mode": {
    "name": "ipython",
    "version": 3
   },
   "file_extension": ".py",
   "mimetype": "text/x-python",
   "name": "python",
   "nbconvert_exporter": "python",
   "pygments_lexer": "ipython3",
   "version": "3.11.1"
  }
 },
 "nbformat": 4,
 "nbformat_minor": 2
}
