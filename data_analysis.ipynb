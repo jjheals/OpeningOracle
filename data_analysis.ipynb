{
 "cells": [
  {
   "cell_type": "code",
   "execution_count": null,
   "metadata": {},
   "outputs": [],
   "source": [
    "from gensim import corpora\n",
    "from gensim.models import LdaModel\n",
    "import json\n",
    "from data_analysis.OpeningLDA import OpeningLDA\n",
    "from classes.QueryHandler import QueryHandler"
   ]
  },
  {
   "cell_type": "markdown",
   "metadata": {},
   "source": [
    "## LDA"
   ]
  },
  {
   "cell_type": "code",
   "execution_count": null,
   "metadata": {},
   "outputs": [],
   "source": [
    "#opening_lda = OpeningLDA(num_passes=5, print_debug=True) \n",
    "\n",
    "#print(len(opening_lda.texts.keys()))\n",
    "#opening_lda.lda_model.print_topics(num_words=15)\n",
    "\n",
    "#opening_lda.save('lda')\n"
   ]
  },
  {
   "cell_type": "code",
   "execution_count": null,
   "metadata": {},
   "outputs": [],
   "source": [
    "opening_lda = OpeningLDA.load(\"lda\")"
   ]
  },
  {
   "cell_type": "code",
   "execution_count": null,
   "metadata": {},
   "outputs": [],
   "source": [
    "opening_lda.__construct_topic_doc_matrix__()"
   ]
  },
  {
   "cell_type": "code",
   "execution_count": null,
   "metadata": {},
   "outputs": [],
   "source": [
    "query_handler = QueryHandler()\n",
    "query_handler.opening_lda = opening_lda\n",
    "\n",
    "sample_query1 = { \n",
    "                 \"message\": \"capture the center, develop light square bishop\",\n",
    "                 \"color\": \"white\" \n",
    "}\n",
    "query_handler.handle_user_query(sample_query1, debug=True)"
   ]
  },
  {
   "cell_type": "markdown",
   "metadata": {},
   "source": [
    "## GPT"
   ]
  },
  {
   "cell_type": "code",
   "execution_count": 1,
   "metadata": {},
   "outputs": [],
   "source": [
    "from transformers import pipeline, AutoTokenizer, AutoModelForSeq2SeqLM\n",
    "from scraper.Paths import Paths\n",
    "from scraper.Scraper import Scraper\n",
    "from math import ceil, floor"
   ]
  },
  {
   "cell_type": "code",
   "execution_count": 2,
   "metadata": {},
   "outputs": [],
   "source": [
    "test_input = open(f\"{Paths.RAW_DESC_BASE}/A27/wikipedia.txt\").read().replace(\"\\n\", \"\")\n",
    "\n",
    "# Choose a model and load tokenizer\n",
    "model_name = \"facebook/bart-large-cnn\"\n",
    "tokenizer = AutoTokenizer.from_pretrained(model_name)\n",
    "\n",
    "# Load the model\n",
    "model = AutoModelForSeq2SeqLM.from_pretrained(model_name)\n",
    "\n",
    "# Create a summarization pipeline using the loaded model and tokenizer\n",
    "summarizer = pipeline(\"summarization\", model=model, tokenizer=tokenizer)\n"
   ]
  },
  {
   "cell_type": "code",
   "execution_count": 3,
   "metadata": {},
   "outputs": [
    {
     "name": "stderr",
     "output_type": "stream",
     "text": [
      "Token indices sequence length is longer than the specified maximum sequence length for this model (4869 > 1024). Running this sequence through the model will result in indexing errors\n",
      "Your max_length is set to 1024, but your input_length is only 1017. Since this is a summarization task, where outputs shorter than the input are typically wanted, you might consider decreasing max_length manually, e.g. summarizer('...', max_length=508)\n"
     ]
    },
    {
     "name": "stdout",
     "output_type": "stream",
     "text": [
      "['Che', 'ss', 'Ġopening', 'English', 'ĠOpening', 'abc', 'def', 'gh', '88', '77', '66', '55', '44', '33', '22', '11', 'abc', 'def', 'gh', 'M', 'oves', '1', '.', 'c', '4', 'EC', 'OA', '10', 'âĢĵ', 'A', '39', 'Origin', 'St', 'aun', 'ton', 'Ġvs', '.', 'ĠSaint', '-', 'Am', 'ant', ',', 'Ġ18', '43', 'N', 'amed', 'Ġafter', 'Howard', 'ĠSt', 'aun', 'ton', ',', 'ĠEnglish', 'Ġplayer', 'Ġand', 'ĠWorld', 'ĠChampion', 'Ġ(', 'un', 'official', ')', 'The', 'ĠEnglish', 'ĠOpening', 'Ġis', 'Ġa', 'Ġchess', 'Ġopening', 'Ġthat', 'Ġbegins', 'Ġwith', 'Ġthe', 'Ġmove', ':', '1', '.', 'Ġc', '4', 'A', 'Ġflank', 'Ġopening', ',', 'Ġit', 'Ġis', 'Ġthe', 'Ġfourth', 'Ġmost', 'Ġpopular', '[', '1', '][', '2', ']', 'Ġand', ',', 'Ġaccording', 'Ġto', 'Ġvarious', 'Ġdatabases', ',', 'Ġone', 'Ġof', 'Ġthe', 'Ġfour', 'Ġmost', 'Ġsuccessful', 'Ġof', 'ĠWhite', \"'s\", 'Ġtwenty', 'Ġpossible', 'Ġfirst', 'Ġmoves', '.[', '1', '][', '3', ']', 'ĠWhite', 'Ġbegins', 'Ġthe', 'Ġfight', 'Ġfor', 'Ġthe', 'Ġcentre', 'Ġby', 'Ġst', 'aking', 'Ġa', 'Ġclaim', 'Ġto', 'Ġthe', 'Ġd', '5', '-', 'square', 'Ġfrom', 'Ġthe', 'Ġwing', ',', 'Ġin', 'Ġhyper', 'modern', 'Ġstyle', '.', 'ĠAlthough', 'Ġmany', 'Ġlines', 'Ġof', 'Ġthe', 'ĠEnglish', 'Ġhave', 'Ġa', 'Ġdistinct', 'Ġcharacter', ',', 'Ġthe', 'Ġopening', 'Ġis', 'Ġoften', 'Ġused', 'Ġas', 'Ġa', 'Ġtrans', 'pos', 'itional', 'Ġdevice', 'Ġin', 'Ġmuch', 'Ġthe', 'Ġsame', 'Ġway', 'Ġas', 'Ġ1', '.', 'N', 'f', '3', 'ĠâĢĵ', 'Ġto', 'Ġavoid', 'Ġsuch', 'Ġhighly', 'Ġregarded', 'Ġresponses', 'Ġto', 'Ġ1', '.', 'd', '4', 'Ġas', 'Ġthe', 'ĠNim', 'zo', '-', 'Indian', 'Ġand', 'ĠGr', 'Ã¼', 'n', 'feld', 'ĠDef', 'ences', 'ĠâĢĵ', 'Ġand', 'Ġis', 'Ġconsidered', 'Ġreliable', 'Ġand', 'Ġflexible', '.[', '4', ']', 'History', 'Ġof', 'Ġthe', 'Ġopening', '[', 'edit', ']', 'The', 'ĠEnglish', 'Ġderives', 'Ġits', 'Ġname', 'Ġfrom', 'Ġthe', 'Ġleading', 'Ġ19', 'th', 'Ġcentury', 'ĠEnglish', 'Ġmaster', 'ĠHoward', 'ĠSt', 'aun', 'ton', ',', 'Ġwho', 'Ġplayed', 'Ġit', 'Ġduring', 'Ġhis', 'Ġ18', '43', 'Ġmatch', 'Ġwith', 'ĠSaint', '-', 'Am', 'ant', 'Ġand', 'Ġat', 'ĠLondon', 'Ġ18', '51', ',', 'Ġthe', 'Ġfirst', 'Ġinternational', 'Ġtournament', '.[', '5', ']', 'ĠIt', 'Ġdid', 'Ġnot', 'Ġinspire', 'ĠSt', 'aun', 'ton', \"'s\", 'Ġcontemporaries', 'Ġand', 'Ġcaught', 'Ġon', 'Ġonly', 'Ġin', 'Ġthe', 'Ġtwentieth', 'Ġcentury', '.[', '5', ']', 'ĠIt', 'Ġis', 'Ġnow', 'Ġrecognised', 'Ġas', 'Ġa', 'Ġsolid', 'Ġopening', 'Ġthat', 'Ġmay', 'Ġbe', 'Ġused', 'Ġto', 'Ġreach', 'Ġboth', 'Ġclassical', 'Ġand', 'Ġhyper', 'modern', 'Ġchess', 'Ġpositions', '.', 'ĠMikhail', 'ĠBot', 'v', 'inn', 'ik', ',', 'ĠTig', 'ran', 'ĠPet', 'ros', 'ian', ',', 'ĠAnat', 'oly', 'ĠK', 'arp', 'ov', ',', 'ĠGarry', 'ĠKas', 'par', 'ov', ',', 'ĠMagnus', 'ĠCarl', 'sen', ',', 'Ġand', 'ĠDing', 'ĠL', 'iren', 'Ġhave', 'Ġemployed', 'Ġit', 'Ġduring', 'Ġtheir', 'Ġworld', 'Ġchampionship', 'Ġmatches', '.', 'ĠBobby', 'ĠFischer', 'Ġcreated', 'Ġa', 'Ġstir', 'Ġwhen', 'Ġhe', 'Ġswitched', 'Ġto', 'Ġit', 'Ġfrom', 'Ġhis', 'Ġcustomary', 'Ġ1', '.', 'e', '4', 'Ġlate', 'Ġin', 'Ġhis', 'Ġcareer', ',', 'Ġemploying', 'Ġit', 'Ġagainst', 'ĠLev', 'ĠPol', 'uga', 'ev', 'sky', 'Ġand', 'ĠOscar', 'ĠP', 'ann', 'o', 'Ġat', 'Ġthe', 'ĠPal', 'ma', 'Ġde', 'ĠMall', 'or', 'ca', 'ĠInter', 'z', 'onal', 'Ġin', 'Ġ1970', ',', 'Ġand', 'Ġin', 'Ġhis', 'Ġworld', 'Ġchampionship', 'Ġmatch', 'Ġagainst', 'ĠBoris', 'ĠSp', 'ass', 'ky', '.', 'Tax', 'onomy', '[', 'edit', ']', 'Opening', 'Ġtheoret', 'icians', 'Ġwho', 'Ġwrite', 'Ġon', 'Ġthe', 'ĠEnglish', 'ĠOpening', 'Ġdivide', 'Ġit', 'Ġinto', 'Ġthree', 'Ġbroad', 'Ġcategories', ',', 'Ġgenerally', 'Ġdetermined', 'Ġby', 'ĠBlack', \"'s\", 'Ġchoice', 'Ġof', 'Ġdefensive', 'Ġsetup', '.', 'Sy', 'mm', 'etrical', 'ĠDefence', ':', 'Ġ1', '...', 'c', '5', 'Ġ[', 'edit', ']', 'The', 'ĠSy', 'mm', 'etrical', 'ĠDefence', '[', '6', ']', 'Ġ(', 'classified', 'ĠA', '30', 'âĢĵ', '39', 'Ġin', 'ĠECO', ')', 'Ġis', 'Ġ1', '...', 'c', '5', ',', 'Ġand', 'Ġis', 'Ġso', 'Ġnamed', 'Ġbecause', 'Ġboth', 'Ġof', 'Ġthe', 'Ġc', '-', 'p', 'awn', 's', 'Ġare', 'Ġadvanced', 'Ġtwo', 'Ġsquares', ',', 'Ġmaintaining', 'Ġsymmetry', '.', 'ĠNote', 'Ġthat', 'ĠBlack', 'Ġcan', 'Ġreach', 'Ġthe', 'ĠSy', 'mm', 'etrical', 'ĠDefence', 'Ġthrough', 'Ġmany', 'Ġmove', 'Ġorders', 'Ġby', 'Ġdefer', 'ring', 'Ġ...', 'c', '5', ',', 'Ġand', 'Ġoften', 'Ġdoes', '.', 'ĠFor', 'Ġexample', ',', 'Ġ1', '.', 'c', '4', 'ĠN', 'f', '6', 'Ġ2', '.', 'N', 'c', '3', 'Ġ(', 'or', 'Ġ2', '.', 'N', 'f', '3', ')', 'Ġc', '5', '.', 'abc', 'def', 'gh', '88', '77', '66', '55', '44', '33', '22', '11', 'abc', 'def', 'gh', 'Sy', 'mm', 'etrical', 'ĠDefence', ':', 'Ġ1', '.', 'c', '4', 'Ġc', '5', 'Either', 'Ġplayer', 'Ġmay', 'Ġmake', 'Ġan', 'Ġearly', 'Ġbreak', 'Ġin', 'Ġthe', 'Ġcentre', 'Ġwith', 'Ġthe', 'Ġd', '-', 'p', 'awn', '.', 'Similar', 'Ġto', 'Ġthe', 'ĠOpen', 'ĠSic', 'ilian', ',', 'Ġan', 'Ġearly', 'Ġd', '2', 'âĢĵ', 'd', '4', 'Ġfor', 'ĠWhite', 'Ġcan', 'Ġarise', 'Ġon', 'Ġthe', 'Ġthird', 'Ġmove', 'Ġin', 'Ġthe', 'ĠSy', 'mm', 'etrical', 'ĠDefence', 'Ġwith', 'Ġ2', '.', 'N', 'f', '3', ',', 'Ġwhere', 'ĠBlack', 'Ġhas', 'Ġchosen', 'Ġone', 'Ġof', 'Ġ2', '...', 'N', 'c', '6', ',', 'Ġ2', '...', 'e', '6', ',', 'Ġ2', '...', 'd', '6', ',', 'Ġor', 'Ġ2', '...', 'g', '6', '.', 'ĠAfter', 'Ġ3', '.', 'd', '4', ',', 'Ġthe', 'Ġgame', 'Ġusually', 'Ġcontinues', 'Ġwith', 'Ġ3', '...', 'c', 'xd', '4', 'Ġ4', '.', 'N', 'xd', '4', '.', 'ĠThe', 'Ġgames', 'Ġcan', 'Ġgive', 'Ġa', 'Ġlarge', 'Ġvariety', 'Ġof', 'Ġpositional', 'Ġand', 'Ġtactical', 'Ġideas', ',', 'Ġand', 'Ġcan', 'Ġtrans', 'pose', 'Ġinto', 'Ġvariants', 'Ġof', 'Ġthe', 'ĠOpen', 'ĠSic', 'ilian', 'Ġinvolving', 'Ġthe', 'ĠMar', 'Ã³', 'c', 'zy', 'ĠBind', ',', 'Ġsuch', 'Ġas', 'Ġthe', 'ĠAcceler', 'ated', 'ĠDragon', ',', 'ĠT', 'aiman', 'ov', ',', 'ĠKan', ',', 'Ġor', 'ĠKal', 'ash', 'nikov', 'ĠVari', 'ations', ',', 'Ġif', 'ĠWhite', 'Ġplays', 'Ġe', '4', 'Ġin', 'Ġa', 'Ġlater', 'Ġmove', '.', 'ĠIf', 'ĠBlack', 'Ġmanages', 'Ġto', 'Ġplay', 'Ġd', '5', 'Ġbefore', 'ĠWhite', 'Ġplays', 'Ġe', '4', ',', 'Ġthen', 'Ġthe', 'Ġgame', 'Ġcould', 'Ġtrans', 'pose', 'Ġinto', 'Ġvariants', 'Ġof', 'Ġthe', 'ĠQueen', \"'s\", 'ĠGam', 'bit', 'ĠDecl', 'ined', '.', 'When', 'ĠBlack', 'Ġplays', 'Ġ2', '...', 'N', 'f', '6', ',', 'Ġthese', 'Ġlines', 'Ġare', 'Ġoften', 'Ġcalled', 'Ġthe', 'ĠAnti', '-', 'Ben', 'oni', ',', 'Ġsince', 'Ġthese', 'Ġpositions', 'Ġare', 'Ġoften', 'Ġreached', 'Ġafter', 'Ġthe', 'Ġtrans', 'position', 'Ġ1', '.', 'd', '4', 'ĠN', 'f', '6', 'Ġ2', '.', 'c', '4', 'Ġc', '5', 'Ġ3', '.', 'N', 'f', '3', ',', 'Ġwhere', 'ĠWhite', 'Ġavoided', 'Ġthe', 'ĠBen', 'oni', 'ĠDefense', 'Ġthat', 'Ġwould', 'Ġarise', 'Ġafter', 'Ġ3', '.', 'd', '5', '.', 'ĠAfter', 'Ġ3', '...', 'c', 'xd', '4', 'Ġ4', '.', 'N', 'xd', '4', ',', 'ĠBlack', 'Ġcould', 'Ġfollow', 'Ġup', 'Ġwith', 'Ġ4', '...', 'e', '5', 'Ġforcing', 'ĠWhite', \"'s\", 'Ġknight', 'Ġto', 'Ġgo', 'Ġto', 'Ġthe', 'Ġqueens', 'ide', 'Ġand', 'Ġavoiding', 'Ġthe', 'Ġtrans', 'pos', 'itions', 'Ġto', 'Ġthe', 'ĠSic', 'ilian', 'Ġor', 'Ġthe', 'ĠQ', 'GD', ';', 'Ġhowever', ',', 'ĠWhite', 'Ġcould', 'Ġavoid', 'Ġthe', 'Ġline', 'Ġby', 'Ġfirst', 'Ġplaying', 'Ġ3', '.', 'N', 'c', '3', 'Ġand', 'Ġthen', 'Ġplay', 'Ġ4', '.', 'd', '4', ',', 'Ġif', 'ĠBlack', 'Ġdoesn', \"'t\", 'Ġplay', 'Ġ3', '...', 'd', '5', 'Ġ(', 'see', 'Ġbelow', ').', 'ĠSame', 'Ġas', 'Ġabove', ',', 'Ġthe', 'Ġposition', 'Ġcould', 'Ġtrans', 'pose', 'Ġinto', 'Ġa', 'ĠQueen', \"'s\", 'ĠGam', 'bit', 'ĠDecl', 'ined', 'Ġor', 'Ġan', 'ĠOpen', 'ĠSic', 'ilian', 'Ġinvolving', 'Ġthe', 'ĠMar', 'Ã³', 'c', 'zy', 'ĠBind', '.', 'ĠWith', 'Ġ2', '.', 'e', '3', 'ĠN', 'f', '6', ',', 'Ġthe', 'Ġposition', 'Ġtrans', 'poses', 'Ġinto', 'Ġa', 'ĠPan', 'ov', 'âĢĵ', 'Bot', 'v', 'inn', 'ik', 'ĠAttack', 'Ġafter', 'Ġ3', '.', 'd', '4', 'Ġc', 'xd', '4', 'Ġ4', '.', 'ex', 'd', '4', 'Ġd', '5', '.', 'ĠAlternatively', ',', 'Ġthe', 'Ġposition', 'Ġcould', 'Ġtrans', 'pose', 'Ġinto', 'Ġa', 'ĠT', 'arr', 'as', 'ch', 'ĠDefense', 'Ġin', 'Ġthe', 'ĠQueen', \"'s\", 'ĠGam', 'bit', 'ĠDecl', 'ined', '.', 'A', 'Ġtypical', 'Ġline', 'Ġof', 'Ġplay', 'Ġwhere', 'ĠBlack', 'Ġplays', 'Ġan', 'Ġearly', 'Ġ...', 'd', '5', 'Ġis', 'Ġ1', '.', 'c', '4', 'Ġc', '5', 'Ġ2', '.', 'N', 'c', '3', 'ĠN', 'f', '6', 'Ġ3', '.', 'N', 'f', '3', 'Ġd', '5', ',', 'Ġwhen', 'ĠWhite', 'Ġusually', 'Ġtrades', 'Ġoff', 'Ġin', 'Ġthe', 'Ġcentre', 'Ġ4', '.', 'c', 'xd', '5', 'ĠN', 'xd', '5', '.', 'ĠWhite', 'Ġcan', 'Ġeither', 'Ġchallenge', 'Ġthe', 'Ġcentre', 'Ġwith', 'Ġ5', '.', 'd', '4', 'Ġor', 'Ġ5', '.', 'e', '4', 'Ġor', 'Ġallow', 'ĠBlack', 'Ġa', 'Ġspace', 'Ġadvantage', 'Ġin', 'Ġthe', 'Ġcentre', 'Ġwith', 'Ġ5', '.', 'g', '3', '.', 'ĠIn', 'Ġthe', 'Ġlatter', 'Ġcase', ',', 'ĠBlack', 'Ġcan', 'Ġplay', 'Ġ5', '...', 'N', 'c', '6', 'Ġ6', '.', 'B', 'g', '2', 'ĠN', 'c', '7', 'Ġfollowed', 'Ġby', 'Ġ7', '...', 'e', '5', ',', 'Ġreaching', 'Ġa', 'Ġreversed', 'ĠMar', 'Ã³', 'c', 'zy', 'ĠBind', 'Ġposition', 'Ġcalled', 'Ġthe', 'ĠRub', 'instein', 'ĠSystem', '.', 'There', 'Ġare', 'Ġseveral', 'Ġtypes', 'Ġof', 'Ġpositions', 'Ġthat', 'Ġcan', 'Ġarise', 'Ġfrom', 'Ġthe', 'ĠSy', 'mm', 'etrical', 'ĠDefence', '.', 'ĠAmong', 'Ġthe', 'Ġideas', 'Ġare', ':[', '7', ']', 'The', 'ĠHedge', 'hog', 'Ġsystem', '[', '8', ']', 'Ġinvolves', 'Ġa', 'Ġsolid', 'Ġbut', 'Ġflexible', 'Ġdefence', 'Ġin', 'Ġwhich', 'ĠBlack', 'Ġdevelops', 'Ġby', 'Ġb', '6', ',', 'Ġe', '6', ',', 'ĠB', 'b', '7', ',', 'Ġand', 'ĠBe', '7', ',', 'Ġbefore', 'Ġcontrolling', 'Ġthe', 'Ġfifth', 'Ġrank', 'Ġwith', 'Ġmoves', 'Ġsuch', 'Ġas', 'Ġa', '6', 'Ġand', 'Ġd', '6', '.', 'ĠThe', 'Ġgame', 'Ġtypically', 'Ġinvolves', 'Ġextended', 'Ġmaneuver', 'ing', ',', 'Ġbut', 'Ġboth', 'Ġplayers', 'Ġneed', 'Ġto', 'Ġbe', 'Ġon', 'Ġthe', 'Ġlookout', 'Ġfor', 'Ġfavourable', 'Ġpawn', 'Ġadvances', 'Ġand', 'Ġpawn', 'Ġbreaks', '.', 'The', 'Ġdouble', 'Ġfian', 'che', 'tto', 'Ġdefence', 'Ġinvolves', 'ĠBlack', 'Ġdeveloping', 'Ġboth', 'Ġbishops', 'Ġby', 'Ġfian', 'che', 'tto', 'Ġto', 'Ġg', '7', 'Ġand', 'Ġb', '7', '.', 'ĠThe', 'Ġline', 'Ġis', 'Ġfairly', 'Ġsolid', 'Ġand', 'Ġdifficult', 'Ġto', 'Ġdefeat', 'Ġat', 'Ġthe', 'Ġgrand', 'master', 'Ġlevel', '.', 'ĠSome', 'Ġlines', 'Ġare', 'Ġconsidered', 'Ġhighly', 'Ġdraw', 'ish', ',', 'Ġfor', 'Ġinstance', 'Ġif', 'ĠWhite', \"'s\", 'Ġbishops', 'Ġare', 'Ġalso', 'Ġfian', 'che', 'tto', 'ed', 'Ġto', 'Ġg', '2', 'Ġand', 'Ġb', '2', 'Ġthere', 'Ġmay', 'Ġbe', 'Ġmany', 'Ġpiece', 'Ġexchanges', 'Ġleading', 'Ġto', 'Ġa', 'Ġsimplified', 'Ġand', 'Ġequal', 'Ġposition', '.', 'Re', 'vers', 'ed', 'ĠSic', 'ilian', ':', 'Ġ1', '...', 'e', '5', 'Ġ[', 'edit', ']', 'The', 'ĠRe', 'vers', 'ed', 'ĠSic', 'ilian', 'Ġ(', 'classified', 'ĠA', '20', 'âĢĵ', '29', 'Ġin', 'ĠECO', ')', 'Ġis', 'Ġanother', 'Ġbroad', 'Ġcategory', 'Ġof', 'Ġdefence', ',', 'Ġintroduced', 'Ġby', 'Ġthe', 'Ġresponse', 'Ġ1', '...', 'e', '5', '.', 'ĠNote', 'Ġagain', ',', 'Ġthat', 'ĠBlack', 'Ġcan', 'Ġdelay', 'Ġplaying', 'Ġ...', 'e', '5', ',', 'Ġfor', 'Ġexample', 'Ġ1', '.', 'c', '4', 'ĠN', 'f', '6', 'Ġ2', '.', 'N', 'c', '3', 'ĠN', 'c', '6', 'Ġ3', '.', 'N', 'f', '3', 'Ġe', '5', 'Ġwhere', 'upon', 'Ġeven', 'Ġthough', 'Ġ...', 'e', '5', 'Ġhas', 'Ġbeen', 'Ġdelayed', ',', 'Ġonce', 'Ġit', 'Ġis', 'Ġplayed', 'Ġthe', 'Ġdefence', 'Ġis', 'Ġclassified', 'Ġas', 'Ġa', 'ĠRe', 'vers', 'ed', 'ĠSic', 'ilian', '.', 'abc', 'def', 'gh', '88', '77', '66', '55', '44', '33', '22', '11', 'abc', 'def', 'gh', 'Re', 'vers', 'ed', 'ĠSic', 'ilian', ':', 'Ġ1', '...', 'e', '5', 'After', 'Ġ1', '...', 'e', '5', ',', 'ĠWhite', 'Ġhas', 'ĠBlack', \"'s\", 'Ġposition', 'Ġin', 'Ġthe', 'ĠSic', 'ilian', 'Ġbut', 'Ġwith', 'Ġan', 'Ġextra', 'Ġtempo', '.', 'ĠThis', 'Ġis', 'Ġoften', 'Ġcalled', 'Ġthe', 'ĠRe', 'vers', 'ed', 'ĠSic', 'ilian', ',[', '9', ']', 'Ġthough', 'Ġothers', 'Ġcall', 'Ġit', 'Ġthe', 'ĠKing', \"'s\", 'ĠEnglish', '.[', '10', ']', 'ĠBruce', 'ĠLe', 'verett', ',', 'Ġwriting', 'Ġthe', 'ĠEnglish', 'Ġchapter', 'Ġin', 'ĠM', 'CO', '-', '14', ',', 'Ġstated', ',', 'Ġ\"', 'It', 'Ġis', 'Ġnatural', 'Ġto', 'Ġtreat', 'Ġthe', 'ĠEnglish', 'Ġas', 'Ġa', 'ĠSic', 'ilian', 'Ġreversed', ',', 'Ġbut', 'Ġthe', 'Ġresults', 'Ġare', 'Ġoften', 'Ġsurprising', 'âĢĶ', 'main', 'Ġlines', 'Ġin', 'Ġthe', 'ĠSic', 'ilian', 'ĠDefence', 'Ġcorrespond', 'Ġto', 'Ġobscure', 'Ġside', 'Ġvariations', 'Ġin', 'Ġthe', 'ĠEnglish', ',', 'Ġand', 'Ġvice', 'Ġversa', '.\"', 'Other', 'Ġlines', '[', 'edit', ']', 'The', 'Ġthird', 'Ġbroad', 'Ġcategory', 'Ġconsists', 'Ġof', 'Ġthe', 'Ġnon', '-', '...', 'e', '5', 'Ġand', 'Ġnon', '-', '...', 'c', '5', 'Ġresponses', ',', 'Ġclassified', 'ĠA', '10', 'âĢĵ', '19', 'Ġin', 'ĠECO', '.', 'ĠMost', 'Ġoften', 'Ġthese', 'Ġdefences', 'Ġconsist', 'Ġof', 'ĠN', 'f', '6', ',', 'Ġe', '6', ',', 'Ġand', 'Ġd', '5', 'Ġor', 'ĠB', 'b', '4', 'Ġsystemic', 'Ġresponses', 'Ġby', 'ĠBlack', ',', 'Ġor', 'Ġa', 'ĠSlav', '-', 'like', 'Ġsystem', 'Ġconsisting', 'Ġof', 'Ġc', '6', 'Ġand', 'Ġd', '5', ',', 'Ġa', 'Ġdirect', 'ĠKing', \"'s\", 'ĠIndian', 'ĠDefence', 'Ġsetup', 'Ġwith', 'ĠN', 'f', '6', ',', 'Ġg', '6', ',', 'ĠB', 'g', '7', ',', 'Ġ0', '-', '0', ',', 'Ġafter', 'Ġwhich', 'Ġc', '5', 'Ġand', 'Ġe', '5', 'Ġare', 'Ġesche', 'wed', ',', 'Ġor', 'Ġ1', '...', 'f', '5', ',', 'Ġwhich', 'Ġusually', 'Ġtrans', 'poses', 'Ġto', 'Ġa', 'ĠDutch', 'ĠDefence', 'Ġonce', 'ĠWhite', 'Ġplays', 'Ġd', '4', '.', 'ĠAll', 'Ġirregular', 'Ġresponses', 'Ġsuch', 'Ġas', 'Ġ1', '...', 'b', '6', 'Ġand', 'Ġ1', '...', 'g', '5', 'Ġare', 'Ġalso', 'Ġlump', 'ed', 'Ġinto', 'Ġthis', 'Ġthird', 'Ġbroad', 'Ġcategory', '.', '1', '...', 'N', 'f', '6', 'Ġis', 'Ġthe', 'Ġmost', 'Ġcommon', 'Ġresponse', 'Ġto', 'Ġ1', '.', 'c', '4', ',', 'Ġoften', 'Ġplayed', 'Ġto', 'Ġarrive', 'Ġat', 'Ġan', 'ĠIndian', 'ĠDefence', '.', 'ĠMore', 'Ġthan', 'Ġhalf', 'Ġthe', 'Ġtime', ',', 'Ġhowever', ',', 'ĠBlack', 'Ġsubsequently', 'Ġelect', 's', 'Ġto', 'Ġtrans', 'pose', 'Ġinto', 'Ġeither', 'Ġa', 'ĠSy', 'mm', 'etrical', 'ĠDefence', 'Ġwith', 'Ġ...', 'c', '5', ',', 'Ġor', 'Ġa', 'ĠRe', 'vers', 'ed', 'ĠSic', 'ilian', 'Ġwith', 'Ġ...', 'e', '5', '.', '1', '...', 'e', '6', 'Ġcan', 'Ġlead', 'Ġto', 'Ġa', 'ĠQueen', \"'s\", 'ĠGam', 'bit', 'ĠDecl', 'ined', 'Ġafter', 'Ġ2', '.', 'N', 'c', '3', 'Ġd', '5', 'Ġ3', '.', 'd', '4', ',', 'Ġbut', 'ĠWhite', 'Ġoften', 'Ġprefers', 'Ġ2', '.', 'N', 'f', '3', ',', 'Ġwhich', 'Ġmay', 'Ġlead', 'Ġto', 'Ġa', 'Ġvariety', 'Ġof', 'Ġopenings', '.', '1', '...', 'f', '5', 'Ġleads', 'Ġto', 'Ġa', 'ĠDutch', 'ĠDefence', 'Ġwhen', 'ĠWhite', 'Ġfollows', 'Ġup', 'Ġwith', 'Ġd', '4', '.', 'ĠOther', 'Ġchoices', 'Ġfor', 'ĠWhite', 'Ġare', 'Ġ2', '.', 'N', 'c', '3', ',', 'Ġ2', '.', 'N', 'f', '3', ',', 'Ġand', 'Ġ2', '.', 'g', '3', ',', 'Ġwhere', 'ĠBlack', 'Ġusually', 'Ġplays', 'Ġ...', 'N', 'f', '6', '.', '1', '...', 'g', '6', 'Ġmay', 'Ġlead', 'Ġto', 'Ġa', 'ĠModern', 'ĠDefense', ',', 'Ġor', 'Ġafter', 'ĠN', 'f', '6', 'Ġand', 'Ġd', '6', 'Ġor', 'Ġd', '5', 'Ġto', 'Ġthe', 'ĠKing', \"'s\", 'ĠIndian', 'ĠDefence', 'Ġor', 'Ġthe', 'ĠGr', 'Ã¼', 'n', 'feld', 'ĠDefence', ',', 'Ġrespectively', ',', 'Ġor', 'Ġstay', 'Ġwithin', 'ĠEnglish', 'Ġlines', '.', 'ĠOften', 'Ġdubbed', 'Ġthe', 'ĠGreat', 'ĠSnake', 'ĠVari', 'ation', '.', '1', '...', 'c', '6', 'Ġcan', 'Ġlead', 'Ġto', 'Ġa', 'ĠSlav', 'ĠDefense', 'Ġafter', 'Ġ2', '.', 'd', '4', 'Ġd', '5', ',', 'Ġbut', 'ĠWhite', 'Ġwill', 'Ġoften', 'Ġprefer', 'Ġa', 'ĠCar', 'o', 'âĢĵ', 'K', 'ann', 'ĠDefence', 'Ġwith', 'Ġ2', '.', 'e', '4', 'Ġd', '5', ',', 'Ġor', 'Ġa', 'ĠRÃ©', 'ti', 'ĠOpening', 'Ġafter', 'Ġ2', '.', 'N', 'f', '3', 'Ġd', '5', 'Ġ3', '.', 'b', '3', '.', 'Ġ1', '.', 'c', '4', 'Ġc', '6', 'Ġ2', '.', 'd', '4', 'Ġd', '6', 'Ġis', 'Ġthe', 'ĠAnglo', '-', 'Sl', 'av', 'ĠOpening', '.', '1', '...', 'b', '6', 'Ġis', 'Ġthe', 'ĠEnglish', 'ĠDefence', '.', 'ĠThis', 'Ġsetup', 'Ġinvolves', 'Ġthe', 'Ġfian', 'che', 'tto', 'Ġof', 'Ġthe', 'Ġqueens', 'ide', 'Ġbishop', 'Ġand', 'Ġ2', '...', 'e', '6', '.', 'ĠOften', 'ĠBlack', 'Ġwill', 'Ġdefer', 'Ġthe', 'Ġmove', 'ĠN', 'f', '6', ',', 'Ġchoosing', 'Ġto', 'Ġattack', 'Ġthe', 'Ġcentre', 'Ġwith', 'Ġf', '5', 'Ġand', '/', 'or', 'ĠQ', 'h', '4', '.', 'ĠThe', 'ĠEnglish', 'Ġgrand', 'masters', 'ĠTony', 'ĠMiles', 'Ġand', 'ĠJonathan', 'ĠSpe', 'elman', 'Ġhave', 'Ġsuccessfully', 'Ġused', 'Ġthis', 'Ġopening', '.', '1', '...', 'd', '5', 'Ġis', 'Ġthe', 'ĠAnglo', '-', 'Sc', 'and', 'inav', 'ian', 'ĠDefense', '.[', '11', ']', 'ĠThought', 'Ġof', 'Ġas', 'Ġinferior', 'Ġto', 'Ġthe', 'ĠScandinavian', 'ĠDefense', 'Ġdue', 'Ġto', 'Ġexchanging', 'Ġthe', 'Ġc', '-', 'p', 'awn', 'Ġfor', 'Ġa', 'Ġcenter', 'Ġpawn', ',', 'Ġin', 'Ġaddition', 'Ġto', 'Ġthe', 'ĠScandinavian', 'Ġalready', 'Ġhaving', 'Ġa', 'Ġsomewhat', 'Ġsuspect', 'Ġreputation', '.', '1', '...', 'g', '5', 'Ġis', 'Ġan', 'Ġeccentric', 'Ġresponse', 'Ġknown', 'Ġas', 'ĠMyers', \"'\", 'ĠDefense', 'Ġafter', 'ĠHugh', 'ĠMyers', \"'s\", 'Ġadvocacy', 'Ġof', 'Ġit', 'Ġin', 'Ġprint', 'Ġand', 'Ġactual', 'Ġplay', '.[', '12', '][', '13', '][', '14', ']', 'ĠIt', 'Ġis', 'Ġintended', 'Ġas', 'Ġan', 'Ġimproved', 'ĠGro', 'b', \"'s\", 'ĠAttack', ';', 'Ġafter', 'Ġ2', '.', 'd', '4', ',', 'ĠBlack', 'Ġwill', 'Ġput', 'Ġpressure', 'Ġon', 'Ġthe', 'Ġd', '4', '-', 'square', 'Ġwith', 'Ġmoves', 'Ġsuch', 'Ġas', 'Ġ...', 'B', 'g', '7', ',', 'Ġ...', 'c', '5', ',', 'Ġand', 'Ġ...', 'Q', 'b', '6', '.[', '13', '][', '15', ']', 'ĠAccording', 'Ġto', 'ĠN', 'unn', \"'s\", 'ĠChess', 'ĠOpen', 'ings', ',', 'ĠWhite', 'Ġob', 'tains', 'Ġa', 'Ġsmall', 'Ġadvantage', 'Ġafter', 'Ġ2', '.', 'd', '4', 'ĠB', 'g', '7', 'Ġ(', 'off', 'ering', 'Ġa', 'ĠGro', 'b', '-', 'like', 'Ġgam', 'bit', ':', 'Ġ3', '.', 'B', 'x', 'g', '5', 'Ġc', '5', ')', 'Ġ3', '.', 'N', 'c', '3', 'Ġh', '6', 'Ġ4', '.', 'e', '4', '.[', '16', ']', 'ĠMyers', 'Ġrecommended', 'Ġ3', '...', 'c', '5', 'Ġ(', 'instead', 'Ġof', 'Ġ3', '...', 'h', '6', ');', 'Ġin', 'Ġresponse', ',', 'ĠJoel', 'ĠBenjamin', 'Ġadvocates', 'Ġ4', '.', 'd', 'xc', '5', '!', '[', '13', ']', '1', '...', 'b', '5', 'Ġis', 'Ġcalled', 'Ġthe', 'ĠJa', 'en', 'isch', 'ĠGam', 'bit', 'Ġafter', 'ĠCarl', 'ĠJa', 'en', 'isch', '.[', '17', ']', 'ĠBlack', 'Ġob', 'tains', 'Ġno', 'Ġimmediate', 'Ġcompensation', 'Ġfor', 'Ġthe', 'Ġsacrificed', 'Ġpawn', '.[', '18', ']', 'Trans', 'position', 'Ġpotential', '[', 'edit', ']', 'If', 'ĠWhite', 'Ġplays', 'Ġan', 'Ġearly', 'Ġd', '4', ',', 'Ġthe', 'Ġgame', 'Ġwill', 'Ġusually', 'Ġtrans', 'pose', 'Ġinto', 'Ġeither', 'Ġthe', 'ĠQueen', \"'s\", 'ĠGam', 'bit', 'Ġor', 'Ġan', 'ĠIndian', 'ĠDefence', '.', 'For', 'Ġexample', ',', 'Ġafter', 'Ġ1', '.', 'c', '4', 'ĠN', 'f', '6', 'Ġ2', '.', 'N', 'c', '3', 'Ġg', '6', 'Ġ3', '.', 'd', '4', 'Ġd', '5', 'Ġthe', 'Ġgame', 'Ġhas', 'Ġtrans', 'posed', 'Ġinto', 'Ġthe', 'ĠGr', 'Ã¼', 'n', 'feld', 'ĠDefence', ',', 'Ġusually', 'Ġreached', 'Ġby', 'Ġthe', 'Ġmove', 'Ġorder', 'Ġ1', '.', 'd', '4', 'ĠN', 'f', '6', 'Ġ2', '.', 'c', '4', 'Ġg', '6', 'Ġ3', '.', 'N', 'c', '3', 'Ġd', '5', '.', 'White', 'Ġcan', ',', 'Ġhowever', ',', 'Ġalso', 'Ġplay', 'Ġ1', '.', 'c', '4', 'ĠN', 'f', '6', 'Ġ2', '.', 'N', 'c', '3', 'Ġg', '6', 'Ġ3', '.', 'e', '4', ',', 'Ġmaking', 'Ġit', 'Ġimpossible', 'Ġfor', 'ĠBlack', 'Ġto', 'Ġreach', 'Ġa', 'ĠGr', 'Ã¼', 'n', 'feld', ',', 'Ġinstead', 'Ġmore', 'Ġor', 'Ġless', 'Ġforcing', 'Ġthem', 'Ġinto', 'Ġlines', 'Ġof', 'Ġthe', 'ĠKing', \"'s\", 'ĠIndian', 'ĠDefence', 'Ġwith', 'Ġ3', '...', 'd', '6', '.', 'ĠBlack', 'Ġalso', 'Ġcannot', 'Ġforce', 'Ġa', 'ĠGr', 'Ã¼', 'n', 'feld', 'Ġwith', 'Ġ1', '.', 'c', '4', 'ĠN', 'f', '6', 'Ġ2', '.', 'N', 'c', '3', 'Ġd', '5', ',', 'Ġsince', 'ĠWhite', 'Ġcan', 'Ġdev', 'iate', 'Ġwith', 'Ġ3', '.', 'c', 'xd', '5', 'ĠN', 'xd', '5', 'Ġ4', '.', 'g', '3', ',', 'Ġa', 'Ġline', 'Ġplayed', 'Ġseveral', 'Ġtimes', 'Ġby', 'ĠMikhail', 'ĠBot', 'v', 'inn', 'ik', 'Ġin', 'Ġ1958', ',', 'Ġin', 'Ġhis', 'Ġfinal', 'Ġmatch', 'Ġfor', 'Ġthe', 'Ġworld', 'Ġchampionship', 'Ġwith', 'ĠVas', 'ily', 'ĠSm', 'ys', 'lov', '.', 'Instead', 'Ġof', 'Ġplaying', 'Ġan', 'Ġearly', 'Ġd', '4', ',', 'ĠWhite', 'Ġcan', 'Ġalso', 'Ġplay', 'ĠN', 'f', '3', 'Ġand', 'Ġfian', 'che', 'tto', 'Ġthe', 'Ġking', \"'s\", 'Ġbishop', 'Ġ(', 'g', '3', 'Ġand', 'ĠB', 'g', '2', '),', 'Ġtrans', 'posing', 'Ġinto', 'Ġa', 'ĠRÃ©', 'ti', 'ĠOpening', '.', 'Also', ',', 'Ġafter', 'Ġ1', '.', 'c', '4', 'Ġc', '6', ',', 'ĠWhite', 'Ġcan', 'Ġtrans', 'pose', 'Ġinto', 'Ġthe', 'ĠPolish', 'ĠOpening', ',', 'ĠOut', 'fl', 'ank', 'ĠVari', 'ation', ',', 'Ġby', 'Ġplaying', 'Ġ2', '.', 'b', '4', '!', '?,', 'Ġwhich', 'Ġcan', 'Ġbe', 'Ġused', 'Ġas', 'Ġa', 'Ġsurprise', 'Ġweapon', 'Ġif', 'ĠBlack', 'Ġdoes', 'Ġnot', 'Ġknow', 'Ġvery', 'Ġmuch', 'Ġabout', 'Ġthe', 'ĠPolish', 'ĠOpening', '.[', '19', ']', 'The', 'Ġmany', 'Ġdifferent', 'Ġtrans', 'pos', 'itional', 'Ġpossibilities', 'Ġavailable', 'Ġto', 'ĠWhite', 'Ġmake', 'Ġthe', 'ĠEnglish', 'Ġa', 'Ġslippery', 'Ġopening', 'Ġfor', 'ĠBlack', 'Ġto', 'Ġdefend', 'Ġagainst', ',', 'Ġand', 'Ġmake', 'Ġit', 'Ġnecessary', 'Ġfor', 'Ġthem', 'Ġto', 'Ġconsider', 'Ġcarefully', 'Ġwhat', 'Ġmove', 'Ġorder', 'Ġto', 'Ġemploy', '.', 'ĠFor', 'Ġinstance', ',', 'Ġif', 'ĠBlack', 'Ġwould', 'Ġlike', 'Ġto', 'Ġplay', 'Ġa', 'ĠQueen', \"'s\", 'ĠGam', 'bit', 'ĠDecl', 'ined', 'Ġ(', 'Q', 'GD', '),', 'Ġthe', 'Ġmost', 'Ġaccurate', 'Ġmove', 'Ġorder', 'Ġto', 'Ġdo', 'Ġso', 'Ġis', 'Ġ1', '...', 'e', '6', 'Ġ2', '.', 'd', '4', 'Ġd', '5', '.', 'Ġ(', 'Of', 'Ġcourse', ',', 'ĠWhite', 'Ġcan', 'Ġagain', 'Ġplay', 'Ġthe', 'ĠRÃ©', 'ti', 'Ġinstead', 'Ġwith', 'Ġ2', '.', 'N', 'f', '3', 'Ġd', '5', 'Ġ3', '.', 'b', '3', '.)', 'ĠIf', 'ĠBlack', 'Ġplays', 'Ġinstead', 'Ġ1', '...', 'N', 'f', '6', 'Ġ2', '.', 'N', 'c', '3', 'Ġe', '6', ',', 'ĠWhite', 'Ġcan', 'Ġavoid', 'Ġthe', 'ĠQ', 'GD', 'Ġby', 'Ġplaying', 'Ġ3', '.', 'e', '4', ',', 'Ġthe', 'ĠFl', 'oh', 'r', 'âĢĵ', 'M', 'iken', 'as', 'ĠAttack', '.', 'EC', 'O', '[', 'edit', ']', 'The', 'ĠEn', 'cyclop', 'a', 'edia', 'Ġof', 'ĠChess', 'ĠOpen', 'ings', 'Ġhas', 'Ġclassified', 'Ġthe', 'ĠEnglish', 'ĠOpening', 'Ġunder', 'Ġthe', 'Ġcodes', 'ĠA', '10', 'Ġthrough', 'ĠA', '39', ':', 'A', '10', 'Ġ1', '.', 'c', '4', 'A', '11', 'Ġ1', '.', 'c', '4', 'Ġc', '6', 'Ġ(', 'Car', 'o', '-', 'K', 'ann', 'ĠDefensive', 'ĠSystem', ')', 'A', '12', 'Ġ1', '.', 'c', '4', 'Ġc', '6', 'Ġ2', '.', 'N', 'f', '3', 'Ġd', '5', 'Ġ3', '.', 'b', '3', 'Ġ(', 'Also', 'Ġthe', 'ĠBog', 'ol', 'j', 'ub', 'ov', 'ĠVari', 'ation', 'Ġof', 'Ġthe', 'ĠAnglo', '-', 'Sl', 'av', 'ĠVari', 'ation', 'Ġof', 'Ġthe', 'ĠRÃ©', 'ti', 'ĠOpening', ')', 'A', '13', 'Ġ1', '.', 'c', '4', 'Ġe', '6', 'Ġ(', 'A', 'gin', 'court', 'ĠDefense', ')', 'A', '14', 'Ġ1', '.', 'c', '4', 'Ġe', '6', 'Ġ2', '.', 'N', 'f', '3', 'Ġd', '5', 'Ġ3', '.', 'g', '3', 'ĠN', 'f', '6', 'Ġ4', '.', 'B', 'g', '2', 'ĠBe', '7', 'Ġ5', '.', '0', '-', '0', 'Ġ(', 'Ne', 'o', '-', 'Catal', 'an', 'ĠDecl', 'ined', 'ĠLine', 'Ġin', 'Ġthe', 'ĠA', 'gin', 'court', 'ĠDefense', ')', 'A', '15', 'Ġ1', '.', 'c', '4', 'ĠN', 'f', '6', 'Ġ(', 'Ang', 'lo', '-', 'Indian', 'ĠDefense', ')', 'A', '16', 'Ġ1', '.', 'c', '4', 'ĠN', 'f', '6', 'Ġ2', '.', 'N', 'c', '3', 'Ġ(', 'Queen', 'âĢ', 'Ļ', 's', 'ĠKnight', 'ĠVari', 'ation', 'Ġof', 'Ġthe', 'ĠAnglo', '-', 'Indian', 'ĠDefense', ')', 'A', '17', 'Ġ1', '.', 'c', '4', 'ĠN', 'f', '6', 'Ġ2', '.', 'N', 'c', '3', 'Ġe', '6', 'Ġ(', 'H', 'edge', 'hog', 'ĠSystem', 'Ġof', 'Ġthe', 'ĠQueen', 'âĢ', 'Ļ', 's', 'ĠKnight', 'ĠVari', 'ation', 'Ġof', 'Ġthe', 'ĠAnglo', '-', 'Indian', 'ĠDefense', ')', 'A', '18', 'Ġ1', '.', 'c', '4', 'ĠN', 'f', '6', 'Ġ2', '.', 'N', 'c', '3', 'Ġe', '6', 'Ġ3', '.', 'e', '4', 'Ġ(', 'M', 'iken', 'as', 'âĢĵ', 'Carl', 's', 'ĠVari', 'ation', ')', 'A', '19', 'Ġ1', '.', 'c', '4', 'ĠN', 'f', '6', 'Ġ2', '.', 'N', 'c', '3', 'Ġe', '6', 'Ġ3', '.', 'e', '4', 'Ġc', '5', 'Ġ(', 'S', 'ic', 'ilian', 'ĠVari', 'ation', 'Ġof', 'Ġthe', 'ĠMik', 'en', 'as', '-', 'Carl', 's', 'ĠVari', 'ation', ')', 'A', '20', 'Ġ1', '.', 'c', '4', 'Ġe', '5', 'Ġ(', 'King', 'âĢ', 'Ļ', 's', 'ĠEnglish', 'ĠVari', 'ation', ')', 'A', '21', 'Ġ1', '.', 'c', '4', 'Ġe', '5', 'Ġ2', '.', 'N', 'c', '3', 'Ġ(', 'Re', 'vers', 'ed', 'ĠSic', 'ilian', ')', 'A', '22', 'Ġ1', '.', 'c', '4', 'Ġe', '5', 'Ġ2', '.', 'N', 'c', '3', 'ĠN', 'f', '6', 'Ġ(', 'Two', 'ĠKnights', 'ĠVari', 'ation', 'Ġof', 'Ġthe', 'ĠKing', 'âĢ', 'Ļ', 's', 'ĠEnglish', ')', 'A', '23', 'Ġ1', '.', 'c', '4', 'Ġe', '5', 'Ġ2', '.', 'N', 'c', '3', 'ĠN', 'f', '6', 'Ġ3', '.', 'g', '3', 'Ġc', '6', 'Ġ(', 'B', 'rem', 'en', 'ĠSystem', ',', 'ĠKe', 'res', 'ĠVari', 'ation', ')', 'A', '24', 'Ġ1', '.', 'c', '4', 'Ġe', '5', 'Ġ2', '.', 'N', 'c', '3', 'ĠN', 'f', '6', 'Ġ3', '.', 'g', '3', 'Ġg', '6', 'Ġ(', 'B', 'rem', 'en', 'ĠSystem', 'Ġwith', 'Ġ...', 'g', '6', ')', 'Ġ(', 'also', 'Ġknown', 'Ġas', 'Ġthe', 'ĠF', 'ian', 'che', 'tto', 'ĠLine', ')', 'A', '25', 'Ġ1', '.', 'c', '4', 'Ġe', '5', 'Ġ2', '.', 'N', 'c', '3', 'ĠN', 'c', '6', 'Ġ(', 'Re', 'vers', 'ed', 'ĠClosed', 'ĠSic', 'ilian', ')', 'A', '26', 'Ġ1', '.', 'c', '4', 'Ġe', '5', 'Ġ2', '.', 'N', 'c', '3', 'ĠN', 'c', '6', 'Ġ3', '.', 'g', '3', 'Ġg', '6', 'Ġ4', '.', 'B', 'g', '2', 'ĠB', 'g', '7', 'Ġ5', '.', 'd', '3', 'Ġd', '6', 'Ġ(', 'Full', 'ĠSy', 'mm', 'etry', 'ĠLine', 'Ġin', 'Ġthe', 'ĠClosed', 'ĠSystem', ')', 'A', '27', 'Ġ1', '.', 'c', '4', 'Ġe', '5', 'Ġ2', '.', 'N', 'c', '3', 'ĠN', 'c', '6', 'Ġ3', '.', 'N', 'f', '3', 'Ġ(', 'Three', 'ĠKnights', 'ĠSystem', ')', 'A', '28', 'Ġ1', '.', 'c', '4', 'Ġe', '5', 'Ġ2', '.', 'N', 'c', '3', 'ĠN', 'c', '6', 'Ġ3', '.', 'N', 'f', '3', 'ĠN', 'f', '6', 'Ġ(', 'Four', 'ĠKnights', 'ĠVari', 'ation', ')', 'A', '29', 'Ġ1', '.', 'c', '4', 'Ġe', '5', 'Ġ2', '.', 'N', 'c', '3', 'ĠN', 'c', '6', 'Ġ3', '.', 'N', 'f', '3', 'ĠN', 'f', '6', 'Ġ4', '.', 'g', '3', 'Ġ(', 'Four', 'ĠKnights', ',', 'ĠKings', 'ide', 'ĠF', 'ian', 'che', 'tto', ')', 'A', '30', 'Ġ1', '.', 'c', '4', 'Ġc', '5', 'Ġ(', 'Sy', 'mm', 'etrical', 'ĠVari', 'ation', ')', 'A', '31', 'Ġ1', '.', 'c', '4', 'Ġc', '5', 'Ġ2', '.', 'N', 'f', '3', 'ĠN', 'f', '6', 'Ġ3', '.', 'd', '4', 'Ġ(', 'Sy', 'mm', 'etrical', ',', 'ĠBen', 'oni', 'ĠFormation', ')', 'Ġ(', 'also', 'Ġknown', 'Ġas', 'Ġthe', 'ĠAnti', '-', 'Ben', 'oni', 'ĠVari', 'ation', ')', 'A', '32', 'Ġ1', '.', 'c', '4', 'Ġc', '5', 'Ġ2', '.', 'N', 'f', '3', 'ĠN', 'f', '6', 'Ġ3', '.', 'd', '4', 'Ġc', 'xd', '4', 'Ġ4', '.', 'N', 'xd', '4', 'Ġe', '6', 'Ġ(', 'Sp', 'iel', 'mann', 'ĠDefense', 'Ġof', 'Ġthe', 'ĠAnti', '-', 'Ben', 'oni', 'ĠVari', 'ation', 'Ġof', 'Ġthe', 'ĠSy', 'mm', 'etrical', ')', 'A', '33', 'Ġ1', '.', 'c', '4', 'Ġc', '5', 'Ġ2', '.', 'N', 'f', '3', 'ĠN', 'f', '6', 'Ġ3', '.', 'd', '4', 'Ġc', 'xd', '4', 'Ġ4', '.', 'N', 'xd', '4', 'Ġe', '6', 'Ġ5', '.', 'N', 'c', '3', 'ĠN', 'c', '6', 'A', '34', 'Ġ1', '.', 'c', '4', 'Ġc', '5', 'Ġ2', '.', 'N', 'c', '3', 'Ġ(', 'Normal', 'ĠVari', 'ation', 'Ġof', 'Ġthe', 'ĠSy', 'mm', 'etrical', ')', 'A', '35', 'Ġ1', '.', 'c', '4', 'Ġc', '5', 'Ġ2', '.', 'N', 'c', '3', 'ĠN', 'c', '6', 'Ġ(', 'Two', 'ĠKnights', 'ĠVari', 'ation', 'Ġof', 'Ġthe', 'ĠSy', 'mm', 'etrical', ')', 'A', '36', 'Ġ1', '.', 'c', '4', 'Ġc', '5', 'Ġ2', '.', 'N', 'c', '3', 'ĠN', 'c', '6', 'Ġ3', '.', 'g', '3', 'Ġ(', 'F', 'ian', 'che', 'tto', 'ĠVari', 'ation', 'Ġof', 'Ġthe', 'ĠSy', 'mm', 'etrical', ')', 'A', '37', 'Ġ1', '.', 'c', '4', 'Ġc', '5', 'Ġ2', '.', 'N', 'c', '3', 'ĠN', 'c', '6', 'Ġ3', '.', 'g', '3', 'Ġg', '6', 'Ġ4', '.', 'B', 'g', '2', 'ĠB', 'g', '7', 'Ġ5', '.', 'N', 'f', '3', 'Ġ(', 'Two', 'ĠKnights', 'ĠLine', ')', 'A', '38', 'Ġ1', '.', 'c', '4', 'Ġc', '5', 'Ġ2', '.', 'N', 'c', '3', 'ĠN', 'c', '6', 'Ġ3', '.', 'g', '3', 'Ġg', '6', 'Ġ4', '.', 'B', 'g', '2', 'ĠB', 'g', '7', 'Ġ5', '.', 'N', 'f', '3', 'ĠN', 'f', '6', 'Ġ(', 'Full', 'ĠSy', 'mm', 'etry', 'ĠLine', ')', 'A', '39', 'Ġ1', '.', 'c', '4', 'Ġc', '5', 'Ġ2', '.', 'N', 'c', '3', 'ĠN', 'c', '6', 'Ġ3', '.', 'g', '3', 'Ġg', '6', 'Ġ4', '.', 'B', 'g', '2', 'ĠB', 'g', '7', 'Ġ5', '.', 'N', 'f', '3', 'ĠN', 'f', '6', 'Ġ6', '.', '0', '-', '0', 'Ġ0', '-', '0', 'Ġ7', '.', 'd', '4', 'Ġ(', 'Me', 'cking', 'ĠVari', 'ation', ')', 'Dep', 'iction', 'Ġin', 'Ġcinema', '[', 'edit', ']', 'The', 'ĠEnglish', 'ĠOpening', 'Ġis', 'Ġused', 'Ġby', 'ĠProfessor', 'ĠMori', 'arty', 'Ġin', 'Ġthe', 'Ġfilm', 'ĠSherlock', 'ĠHolmes', ':', 'ĠA', 'ĠGame', 'Ġof', 'ĠShadows', 'Ġas', 'Ġhe', 'Ġand', 'ĠHolmes', 'Ġdiscuss', 'Ġtheir', 'Ġcompeting', 'Ġplans', 'Ġover', 'Ġa', 'Ġgame', 'Ġof', 'Ġchess', '.', 'Ġ', 'ĠBoth', 'ĠHolmes', 'Ġand', 'ĠMori', 'arty', 'Ġeventually', 'Ġplay', 'Ġthe', 'Ġfinal', 'Ġmoves', 'Ġblind', 'fold', 'ed', 'Ġby', 'Ġciting', 'Ġout', 'Ġthe', 'Ġlast', 'Ġmoves', 'Ġin', 'Ġdescriptive', 'Ġnotation', 'Ġ(', 'rather', 'Ġthan', 'Ġalgebra', 'ic', ',', 'Ġas', 'Ġthe', 'Ġformer', 'Ġwas', 'Ġcontemporary', 'Ġin', 'Ġthe', 'Ġlate', 'Ġ19', 'th', 'Ġcentury', '),', 'Ġending', 'Ġin', 'ĠHolmes', 'Ġcheck', 'm', 'ating', 'ĠMori', 'arty', ',', 'Ġjust', 'Ġas', 'ĠWatson', 'Ġfo', 'ils', 'ĠMori', 'arty', \"'s\", 'Ġplans', '.', '1', '.', 'c', '4', 'Ġis', 'Ġalso', 'Ġused', 'Ġin', 'ĠP', 'awn', 'ĠSacrifice', 'Ġby', 'ĠBobby', 'ĠFischer', 'Ġin', 'Ġthe', 'Ġclim', 'actic', 'Ġgame', 'Ġsix', 'Ġof', 'Ġthe', 'Ġ1972', 'ĠWorld', 'ĠChess', 'ĠChampionship', 'Ġversus', 'ĠBoris', 'ĠSp', 'ass', 'ky', '.', 'See', 'Ġalso', '[', 'edit', ']', 'List', 'Ġof', 'Ġchess', 'Ġopenings', 'List', 'Ġof', 'Ġchess', 'Ġopenings', 'Ġnamed', 'Ġafter', 'Ġplaces', 'References', '[', 'edit', ']', 'Further', 'Ġreading', '[', 'edit', ']', 'External', 'Ġlinks', '[', 'edit', ']', 'Database', 'ĠOf', 'ĠEnglish', 'ĠOpening', 'ĠVari', 'ations', '\"', 'The', 'ĠEnglish', 'ĠOpening', '\"', 'Ġby', 'ĠEdward', 'ĠWinter', 'v', 'te', 'Che', 'ss', 'Out', 'line', 'Che', 'ss', 'Ġtheory', 'Che', 'ss', 'Ġtitles', 'Grand', 'master', 'Computer', 'Ġchess', 'gl', 'oss', 'ary', 'mat', 'ches', 'eng', 'iness', 'oft', 'ware', 'Cor', 'respond', 'ence', 'Ġchess', 'F', 'ID', 'EG', 'loss', 'ary', 'Online', 'Ġchess', 'Prem', 'ove', 'Internet', 'Ġchess', 'Ġserver', 'list', 'Rating', 'Ġsystem', 'world', 'Ġrankings', 'norm', 's', 'Vari', 'ants', 'List', 'World', 'Ġrecords', 'Equ', 'ipment', 'Che', 'ss', 'Ġset', 'che', 'ss', 'board', 'Dub', 'rov', 'nik', 'Ġchess', 'Ġset', 'St', 'aun', 'ton', 'Ġchess', 'Ġset', 'Che', 'ss', 'Ġpieces', 'King', 'Queen', 'R', 'ook', 'B', 'ishop', 'Knight', 'P', 'awn', 'F', 'airy', 'Che', 'ss', 'Ġclock', 'Che', 'ss', 'Ġtable', 'Score', 'Ġsheets', 'History', 'Tim', 'eline', 'Vers', 'us', 'Ġde', 'Ġsc', 'ach', 'is', 'G', 'Ã¶', 't', 'ting', 'en', 'Ġmanuscript', 'Char', 'lem', 'agne', 'Ġchess', 'men', 'Lewis', 'Ġchess', 'men', 'Rom', 'antic', 'Ġchess', 'Hyper', 'modern', 'ism', 'Soviet', 'Ġchess', 'Ġschool', 'Top', 'Ġplayer', 'Ġcomparison', 'Ge', 'ography', 'Ġof', 'Ġchess', 'Af', 'rica', 'South', 'ĠAfrica', 'China', 'Europe', 'Ar', 'men', 'ia', 'Spain', 'India', 'Notable', 'Ġgames', 'List', 'Ġof', 'Ġchess', 'Ġplayers', 'amate', 'urs', 'female', 'grand', 'masters', 'Women', 'Ġin', 'Ġchess', 'Che', 'ss', 'Ġmuseums', 'B', 'obby', 'ĠFischer', 'ĠCenter', 'G', 'Ã¶', 'ky', 'ay', 'ĠAssociation', 'ĠChess', 'ĠMuseum', 'World', 'ĠChess', 'ĠHall', 'Ġof', 'ĠFame', 'Rules', 'Cast', 'ling', 'Che', 'ating', 'Ġin', 'Ġchess', 'Check', 'Check', 'mate', 'Draw', 'by', 'Ġagreement', 'F', 'ifty', '-', 'move', 'Ġrule', 'Per', 'pet', 'ual', 'Ġcheck', 'St', 'al', 'emate', 'Three', 'fold', 'Ġrepetition', 'En', 'Ġpass', 'ant', 'P', 'awn', 'Ġpromotion', 'Time', 'Ġcontrol', 'Fast', 'Ġchess', 'Touch', '-', 'move', 'Ġrule', 'White', 'Ġand', 'ĠBlack', 'Ter', 'ms', 'Blu', 'nder', 'Che', 'ss', 'Ġnot', 'ational', 'gebra', 'ic', 'desc', 'ript', 'ive', 'PG', 'N', 'ann', 'otation', 'Ġsymbol', 'ss', 'y', 'mb', 'ols', 'Ġin', 'ĠUnicode', 'F', 'ian', 'che', 'tto', 'Gam', 'bit', 'Key', 'Ġsquare', 'King', 'Ġwalk', 'Open', 'Ġfile', 'Half', '-', 'open', 'Ġfile', 'Out', 'post', 'P', 'awn', 's', 'back', 'ward', 'connect', 'edd', 'ou', 'bled', 'isol', 'ated', 'pass', 'ed', 'S', 'wind', 'le', 'Tem', 'po', 'Trans', 'position', 'T', 'rap', 'Tact', 'ics', 'Art', 'ificial', 'Ġcast', 'ling', 'Battery', 'Ale', 'kh', 'ine', \"'s\", 'Ġgun', 'Block', 'Check', 'mate', 'Ġpatterns', 'Comb', 'ination', 'Dec', 'oy', 'Def', 'lection', 'Des', 'per', 'ado', 'Disc', 'overed', 'Ġattack', 'Double', 'Ġcheck', 'F', 'ork', 'Inter', 'ference', 'Over', 'loading', 'P', 'awn', 'Ġstorm', 'Pin', 'Sac', 'rifice', 'Queen', 'Ġsacrifice', 'S', 'ke', 'wer', 'Under', 'mining', 'Wind', 'mill', 'X', '-', 'ray', 'Z', 'w', 'isc', 'hen', 'z', 'ug', 'Str', 'ategy', 'Comp', 'ensation', 'Ex', 'ch', 'ang', 'ethe', 'Ġexchange', 'In', 'iti', 'ative', 'first', '-', 'move', 'Ġadvantage', 'M', 'idd', 'leg', 'ame', 'P', 'awn', 'Ġstructure', 'H', 'edge', 'hog', 'Is', 'olated', 'ĠQueen', \"'s\", 'ĠP', 'awn', 'Mar', 'Ã³', 'c', 'zy', 'ĠBind', 'Min', 'ority', 'Ġattack', 'P', 'iece', 'Ġvalues', 'Pro', 'ph', 'yl', 'axis', 'School', 'Ġof', 'Ġchess', 'Open', 'ings', 'Fl', 'ank', 'Ġopening', 'Ben', 'ko', 'ĠOpening', 'Bird', \"'s\", 'ĠOpening', 'Dun', 'st', 'ĠOpening', 'English', 'ĠOpening', 'G', 'rob', \"'s\", 'ĠAttack', 'L', 'ars', 'en', \"'s\", 'ĠOpening', 'Z', 'uk', 'ert', 'ort', 'ĠOpening', 'King', \"'s\", 'ĠIndian', 'ĠAttack', 'R', 'Ã©', 'ti', 'ĠOpening', 'King', \"'s\", 'ĠP', 'awn', 'ĠGame', 'Ale', 'kh', 'ine', \"'s\", 'ĠDefence', 'Car', 'o', 'âĢĵ', 'K', 'ann', 'ĠDefence', 'French', 'ĠDefence', 'Modern', 'ĠDefence', 'N', 'im', 'z', 'ow', 'itsch', 'ĠDefence', 'Open', 'ĠGame', 'Four', 'ĠKnights', 'ĠGame', 'G', 'iu', 'oco', 'ĠPiano', 'Italian', 'ĠGame', 'King', \"'s\", 'ĠGam', 'bit', 'Pet', 'rov', \"'s\", 'ĠDefence', 'Phil', 'id', 'or', 'ĠDefence', 'P', 'onz', 'iani', 'ĠOpening', 'R', 'uy', 'ĠLopez', 'Sem', 'i', '-', 'Italian', 'ĠOpening', 'Scot', 'ch', 'ĠGame', 'Two', 'ĠKnights', 'ĠDefense', 'Vi', 'enna', 'ĠGame', 'O', 'wen', \"'s\", 'ĠDefence', 'P', 'irc', 'ĠDefence', 'Aust', 'rian', 'ĠAttack', 'Sc', 'and', 'inav', 'ian', 'ĠDefense', 'S', 'ic', 'ilian', 'ĠDefence', 'Al', 'ap', 'in', 'Dragon', '/', 'Ac', 'celer', 'ated', 'ĠDragon', 'N', 'aj', 'd', 'orf', 'Sche', 'ven', 'ingen', 'Queen', \"'s\", 'ĠP', 'awn', 'ĠGame', 'B', 'ud', 'apest', 'ĠGam', 'bit', 'Col', 'le', 'ĠSystem', 'Dutch', 'ĠDefence', 'English', 'ĠDefence', 'Indian', 'ĠDefence', 'Ben', 'oni', 'ĠDefence', 'Modern', 'ĠBen', 'oni', 'B', 'ogo', '-', 'Indian', 'ĠDefence', 'Catal', 'an', 'ĠOpening', 'Gr', 'Ã¼', 'n', 'feld', 'ĠDefence', 'King', \"'s\", 'ĠIndian', 'ĠDefence', 'N', 'im', 'zo', '-', 'Indian', 'ĠDefence', 'Old', 'ĠIndian', 'ĠDefense', 'Queen', \"'s\", 'ĠIndian', 'ĠDefence', 'London', 'ĠSystem', 'Rich', 'ter', 'âĢĵ', 'Ve', 'res', 'ov', 'ĠAttack', 'Queen', \"'s\", 'ĠGam', 'bit', 'Accept', 'ed', 'Decl', 'ined', 'Sl', 'av', 'ĠDefence', 'Sem', 'i', '-', 'Sl', 'av', 'ĠDefence', 'Ch', 'igor', 'in', 'ĠDefense', 'Tor', 're', 'ĠAttack', 'T', 'rom', 'p', 'owsky', 'ĠAttack', 'Other', 'List', 'Ġof', 'Ġopening', 'st', 'he', 'ory', 'Ġtable', 'List', 'Ġof', 'Ġchess', 'Ġgamb', 'its', 'Ir', 'regular', 'B', 'ong', 'cloud', 'ĠAttack', 'F', 'ool', \"'s\", 'Ġmate', 'Sch', 'olar', \"'s\", 'Ġmate', 'End', 'games', 'B', 'ishop', 'Ġand', 'Ġknight', 'Ġcheck', 'mate', 'King', 'Ġand', 'Ġpawn', 'Ġvs', 'Ġking', 'Opp', 'osite', '-', 'col', 'oured', 'Ġbishops', 'P', 'awn', 'less', 'Ġend', 'game', 'Queen', 'Ġand', 'Ġpawn', 'Ġvs', 'Ġqueen', 'Queen', 'Ġvs', 'Ġpawn', 'R', 'ook', 'Ġand', 'Ġbishop', 'Ġvs', 'Ġrook', 'R', 'ook', 'Ġand', 'Ġpawn', 'Ġvs', 'Ġrook', 'Luc', 'ena', 'Ġposition', 'Phil', 'id', 'or', 'Ġposition', 'Str', 'ategy', 'fort', 'resso', 'pp', 'osition', 'T', 'arr', 'as', 'ch', 'Ġru', 'let', 'ri', 'ang', 'ulation', 'Z', 'ug', 'z', 'wang', 'Study', 'Table', 'base', 'Two', 'Ġknights', 'Ġend', 'game', 'Wr', 'ong', 'Ġbishop', 'Wr', 'ong', 'Ġrook', 'Ġpawn', 'T', 'ournaments', 'List', 'Ġof', 'Ġstrong', 'Ġchess', 'Ġtournaments', 'Che', 'ss', 'ĠOlymp', 'i', 'ad', 'Women', 'World', 'ĠChess', 'ĠChampionship', 'List', 'Cand', 'idates', 'ĠTournament', 'Che', 'ss', 'ĠWorld', 'ĠCup', 'F', 'IDE', 'ĠGrand', 'ĠPrix', 'Other', 'Ġworld', 'Ġchampionships', 'Women', 'Team', 'Rap', 'id', 'Bl', 'itz', 'Jun', 'ior', 'Y', 'outh', 'Senior', 'Am', 'ateur', 'Che', 'ss', 'Ġcomposition', 'S', 'olving', 'Computer', 'Ġchess', 'Ġchampionships', 'CC', 'CC', 'S', 'V', 'NN', 'orth', 'ĠAmerican', 'TC', 'EC', 'W', 'CC', 'CW', 'CS', 'CC', 'Art', 'Ġand', 'Ġmedia', 'Ca', 'Ã¯', 'ss', 'a', 'Che', 'ss', 'Ġaesthetics', 'Che', 'ss', 'Ġin', 'Ġthe', 'Ġart', 'se', 'ar', 'ly', 'Ġliterature', 'film', 'no', 'vel', 'sp', 'aint', 'ings', 'po', 'etry', 'short', 'Ġstories', 'Che', 'ss', 'Ġbooks', 'opening', 'Ġbooks', 'end', 'game', 'Ġliterature', 'Ox', 'ford', 'ĠCompanion', 'Che', 'ss', 'Ġlibraries', 'Che', 'ss', 'Ġnewspaper', 'Ġcolumns', 'Che', 'ss', 'Ġperiod', 'icals', 'Related', 'Ar', 'bit', 'er', 'Che', 'ss', 'Ġboxing', 'Che', 'ss', 'Ġclub', 'Che', 'ss', 'Ġcomposer', 'Che', 'ss', 'Ġengine', 'Alpha', 'Zero', 'Deep', 'ĠBlue', 'Le', 'ela', 'ĠChess', 'ĠZero', 'Stock', 'fish', 'Che', 'ss', 'Ġproblem', 'gl', 'oss', 'ary', 'j', 'oke', 'Ġchess', 'Che', 'ss', 'Ġpro', 'digy', 'Sim', 'ultane', 'ous', 'Ġexhibition', 'S', 'olving', 'Ġchess', 'Âł', 'Che', 'ss', 'Ġportal', 'Category', 'Author', 'ity', 'Ġcontrol', 'Ġdatabases', 'ĠInternational', 'F', 'AST', 'National', 'Spain', 'Germany', 'Israel', 'United', 'ĠStates', 'Ret', 'rieved', 'Ġfrom', 'Ġ\"', 'https', '://', 'en', '.', 'wikipedia', '.', 'org', '/', 'w', '/', 'index', '.', 'php', '?', 'title', '=', 'English', '_', 'Opening', '&', 'old', 'id', '=', '118', '45', '276', '22', '\"']\n",
      "num_toks =  Number of tokens in the first 1024 CHARACTERS of input string \n",
      "\t= 260\n",
      "\n",
      "n = Sum of the lengths of the first 1024 tokens\n",
      "\t= 3854\n",
      "\n",
      "num_chars = number of characters passed to summarizer, needs to be close to 1024 without going over\n",
      "\tn - floor(n/num_toks)*2\n",
      "\t= 3826\n",
      "\n",
      "# of tokens summarizer processes (i.e. the number of tokens in the first [num_chars] characters of the input string) \n",
      "\t= \n",
      "\n",
      "The English Opening is a chess opening that begins with the move:1. c4. It is one of the four most successful of White's twenty possible first moves. The English derives its name from the leading 19th century English master Howard Staunton, who played it during his 1843 match with Saint-Amant.\n"
     ]
    }
   ],
   "source": [
    "input_toks = tokenizer.tokenize(test_input)                 # Tokens in ENTIRE input string\n",
    "num_toks = len(tokenizer.tokenize(test_input[:1024]))       # Number of tokens in the first 1024 CHARACTERS of input string\n",
    "n = sum([len(t) for t in input_toks[:1024]])                # Sum of the lengths of the first 1024 tokens\n",
    "num_chars = n - floor(n/num_toks)*2                          # ???\n",
    "\n",
    "summary = summarizer(test_input[:num_chars], max_length=1024, min_length=50, length_penalty=2.0, num_beams=4, early_stopping=True)\n",
    "\n",
    "print(f\"num_toks =  Number of tokens in the first 1024 CHARACTERS of input string \\n\\t= {num_toks}\\n\") \n",
    "print(f\"n = Sum of the lengths of the first 1024 tokens\\n\\t= {n}\\n\")\n",
    "print(f\"num_chars = number of characters passed to summarizer, needs to be close to 1024 without going over\\n\\tn - floor(n/num_toks)*2\\n\\t= {num_chars}\\n\")\n",
    "print(f\"# of tokens summarizer processes (i.e. the number of tokens in the first [num_chars] characters of the input string) \\n\\t= \\n\")\n",
    "# Print the generated summary\n",
    "print(summary[0]['summary_text'])"
   ]
  },
  {
   "cell_type": "code",
   "execution_count": null,
   "metadata": {},
   "outputs": [],
   "source": [
    "model_name:str = \"facebook/bart-large-xsum\"\n",
    "\n",
    "max_input_size:int = 15000\n",
    "tokenizer = AutoTokenizer.from_pretrained(model_name, max_length=max_input_size)\n",
    "summarizer = pipeline(\"summarization\", model=model_name, tokenizer=tokenizer)"
   ]
  },
  {
   "cell_type": "code",
   "execution_count": null,
   "metadata": {},
   "outputs": [],
   "source": [
    "input_text = open(Paths.RAW_DESC_BASE + \"C16/wikipedia.txt\", \"r\", encoding=\"utf-8\").read().replace(\"\\n\", \"\")\n",
    "input_toks = tokenizer.tokenize(input_text, )\n",
    "\n",
    "summary = summarizer(input_text, max_length=200, min_length=100, length_penalty=2.0, num_beams=4, early_stopping=True)\n",
    "\n",
    "# Print the generated summary\n",
    "print(summary)"
   ]
  },
  {
   "cell_type": "code",
   "execution_count": null,
   "metadata": {},
   "outputs": [],
   "source": [
    "input_toks = tokenizer.tokenize(tokenizer.decode(tokenizer.encode(input_text)))\n",
    "input_len = len(input_toks) + 10\n",
    "summaries:list[str] = []\n",
    "\n",
    "n:int = ceil(input_len / max_sum_len)                     # Number of sub summaries needed\n",
    "\n",
    "print(f\"Max len: {ma}\")\n",
    "print(f\"Len input toks: {input_len}\")\n",
    "print(f\"n = {n}\")\n",
    "\n",
    "for j in range(0,n):\n",
    "    these_toks:list[str] = input_toks[j*max_len : (j*max_len) + max_len - 1]\n",
    "    this_text:str = \" \".join(these_toks)\n",
    "    \n",
    "    print(f\"Processing text {j}/{n} (len = {len(these_toks)})\")\n",
    "    \n",
    "    this_sum:str = summarizer(this_text, max_length=200, min_length=100, length_penalty=2.0, num_beams=4, early_stopping=True)\n",
    "    summaries.append(this_sum[0]['summary_text'])\n",
    "\n"
   ]
  },
  {
   "cell_type": "code",
   "execution_count": null,
   "metadata": {},
   "outputs": [],
   "source": [
    "input_text = open(Paths.RAW_DESC_BASE + \"A04/chess.com.txt\", \"r\", encoding=\"utf-8\").read().replace(\"\\n\", \"\")\n",
    "\n",
    "input_ids = bart_tokenizer.encode(input_text, return_tensors=\"pt\", max_length=200, truncation=True)\n",
    "\n",
    "print(len(input_ids[0]))\n",
    "print(bart_tokenizer.decode(input_ids[0], skip_special_tokens=True))\n",
    "\n",
    "cleaned_input_text = bart_tokenizer.decode(input_ids[0], skip_special_tokens=True)\n",
    "\n",
    "summary = bart_model.summarizer(input_text, max_length=200, min_length=100, length_penalty=2.0, num_beams=4, early_stopping=True)\n",
    "\n",
    "print(summary)"
   ]
  }
 ],
 "metadata": {
  "kernelspec": {
   "display_name": "Python 3",
   "language": "python",
   "name": "python3"
  },
  "language_info": {
   "codemirror_mode": {
    "name": "ipython",
    "version": 3
   },
   "file_extension": ".py",
   "mimetype": "text/x-python",
   "name": "python",
   "nbconvert_exporter": "python",
   "pygments_lexer": "ipython3",
   "version": "3.11.1"
  }
 },
 "nbformat": 4,
 "nbformat_minor": 2
}
