{
 "cells": [
  {
   "cell_type": "code",
   "execution_count": null,
   "metadata": {},
   "outputs": [],
   "source": [
    "from gensim import corpora\n",
    "from gensim.models import LdaModel\n",
    "import json\n",
    "from data_analysis.OpeningLDA import OpeningLDA\n",
    "from classes.QueryHandler import QueryHandler"
   ]
  },
  {
   "cell_type": "markdown",
   "metadata": {},
   "source": [
    "## LDA"
   ]
  },
  {
   "cell_type": "code",
   "execution_count": null,
   "metadata": {},
   "outputs": [],
   "source": [
    "#opening_lda = OpeningLDA(num_passes=5, print_debug=True) \n",
    "\n",
    "#print(len(opening_lda.texts.keys()))\n",
    "#opening_lda.lda_model.print_topics(num_words=15)\n",
    "\n",
    "#opening_lda.save('lda')\n"
   ]
  },
  {
   "cell_type": "code",
   "execution_count": null,
   "metadata": {},
   "outputs": [],
   "source": [
    "opening_lda = OpeningLDA.load(\"lda\")"
   ]
  },
  {
   "cell_type": "code",
   "execution_count": null,
   "metadata": {},
   "outputs": [],
   "source": [
    "opening_lda.__construct_topic_doc_matrix__()"
   ]
  },
  {
   "cell_type": "code",
   "execution_count": null,
   "metadata": {},
   "outputs": [],
   "source": [
    "query_handler = QueryHandler()\n",
    "query_handler.opening_lda = opening_lda\n",
    "\n",
    "sample_query1 = { \n",
    "                 \"message\": \"capture the center, develop light square bishop\",\n",
    "                 \"color\": \"white\" \n",
    "}\n",
    "query_handler.handle_user_query(sample_query1, debug=True)"
   ]
  },
  {
   "cell_type": "markdown",
   "metadata": {},
   "source": [
    "## GPT"
   ]
  },
  {
   "cell_type": "code",
   "execution_count": null,
   "metadata": {},
   "outputs": [],
   "source": [
    "from data_analysis.OpeningGPT import OpeningGPT\n",
    "from scraper.Paths import Paths\n",
    "\n",
    "opening_gpt = OpeningGPT()\n"
   ]
  },
  {
   "cell_type": "markdown",
   "metadata": {},
   "source": [
    "### Precomputing summaries for all ECOs "
   ]
  },
  {
   "cell_type": "code",
   "execution_count": null,
   "metadata": {},
   "outputs": [],
   "source": [
    "opening_gpt.precompute_all_summaries(print_debug=True, temperature=0.8, overwrite_existing=True)"
   ]
  },
  {
   "cell_type": "code",
   "execution_count": null,
   "metadata": {},
   "outputs": [],
   "source": [
    "opening_gpt.randomize_all_summaries(print_debug=True)"
   ]
  }
 ],
 "metadata": {
  "kernelspec": {
   "display_name": "Python 3",
   "language": "python",
   "name": "python3"
  },
  "language_info": {
   "codemirror_mode": {
    "name": "ipython",
    "version": 3
   },
   "file_extension": ".py",
   "mimetype": "text/x-python",
   "name": "python",
   "nbconvert_exporter": "python",
   "pygments_lexer": "ipython3",
   "version": "3.11.1"
  }
 },
 "nbformat": 4,
 "nbformat_minor": 2
}
