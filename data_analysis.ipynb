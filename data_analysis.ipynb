{
 "cells": [
  {
   "cell_type": "code",
   "execution_count": 1,
   "metadata": {},
   "outputs": [],
   "source": [
    "from gensim import corpora\n",
    "from gensim.models import LdaModel\n",
    "import json\n",
    "from data_analysis.OpeningLDA import OpeningLDA"
   ]
  },
  {
   "cell_type": "code",
   "execution_count": 2,
   "metadata": {},
   "outputs": [
    {
     "name": "stdout",
     "output_type": "stream",
     "text": [
      "100\n"
     ]
    }
   ],
   "source": [
    "opening_lda = OpeningLDA(num_passes=10) \n",
    "\n",
    "print(len(opening_lda.texts.keys()))"
   ]
  },
  {
   "cell_type": "code",
   "execution_count": 3,
   "metadata": {},
   "outputs": [
    {
     "data": {
      "text/plain": [
       "[(0,\n",
       "  '0.020*\"3\" + 0.019*\"black\" + 0.017*\"white\" + 0.016*\"chess\" + 0.016*\"4\" + 0.016*\"variation\" + 0.012*\"5\" + 0.012*\"2\" + 0.011*\"defence\" + 0.010*\"1\" + 0.010*\"6\" + 0.010*\"pawn\" + 0.009*\"e4\" + 0.009*\"d4\" + 0.009*\"7\"'),\n",
       " (1,\n",
       "  '0.036*\"chess\" + 0.015*\"opening\" + 0.014*\"3\" + 0.014*\"defence\" + 0.013*\"2\" + 0.013*\"1\" + 0.011*\"0\" + 0.011*\"4\" + 0.011*\"pawn\" + 0.010*\"black\" + 0.010*\"white\" + 0.009*\"gambit\" + 0.008*\"game\" + 0.008*\"d4\" + 0.008*\"attack\"'),\n",
       " (2,\n",
       "  '0.019*\"black\" + 0.018*\"white\" + 0.017*\"3\" + 0.017*\"2\" + 0.016*\"chess\" + 0.016*\"variation\" + 0.014*\"5\" + 0.014*\"6\" + 0.013*\"sicilian\" + 0.011*\"4\" + 0.010*\"1\" + 0.008*\"d4\" + 0.008*\"pawn\" + 0.007*\"7\" + 0.007*\"0\"'),\n",
       " (3,\n",
       "  '0.002*\"black\" + 0.002*\"chess\" + 0.001*\"defence\" + 0.001*\"1\" + 0.001*\"2\" + 0.001*\"5\" + 0.001*\"white\" + 0.001*\"0\" + 0.001*\"variation\" + 0.001*\"3\" + 0.001*\"pawn\" + 0.001*\"6\" + 0.001*\"gambit\" + 0.001*\"7\" + 0.001*\"king\"'),\n",
       " (4,\n",
       "  '0.022*\"4\" + 0.022*\"white\" + 0.018*\"black\" + 0.017*\"0\" + 0.016*\"5\" + 0.016*\"chess\" + 0.015*\"variation\" + 0.013*\"gambit\" + 0.012*\"6\" + 0.010*\"3\" + 0.009*\"7\" + 0.009*\"pawn\" + 0.009*\"d5\" + 0.008*\"king\" + 0.008*\"8\"'),\n",
       " (5,\n",
       "  '0.021*\"black\" + 0.020*\"white\" + 0.012*\"4\" + 0.012*\"pawn\" + 0.011*\"6\" + 0.011*\"chess\" + 0.011*\"5\" + 0.010*\"7\" + 0.009*\"p\" + 0.009*\"0\" + 0.008*\"gambit\" + 0.008*\"8\" + 0.007*\"10\" + 0.006*\"9\" + 0.006*\"11\"'),\n",
       " (6,\n",
       "  '0.003*\"chess\" + 0.002*\"black\" + 0.002*\"white\" + 0.002*\"variation\" + 0.002*\"3\" + 0.002*\"6\" + 0.002*\"0\" + 0.002*\"1\" + 0.002*\"defence\" + 0.002*\"2\" + 0.002*\"4\" + 0.001*\"5\" + 0.001*\"d4\" + 0.001*\"pawn\" + 0.001*\"opening\"'),\n",
       " (7,\n",
       "  '0.004*\"3\" + 0.004*\"black\" + 0.003*\"chess\" + 0.003*\"defence\" + 0.003*\"2\" + 0.003*\"1\" + 0.003*\"white\" + 0.002*\"nf3\" + 0.002*\"0\" + 0.002*\"pawn\" + 0.002*\"attack\" + 0.002*\"6\" + 0.002*\"variation\" + 0.001*\"opening\" + 0.001*\"5\"'),\n",
       " (8,\n",
       "  '0.029*\"chess\" + 0.018*\"1\" + 0.015*\"defence\" + 0.014*\"black\" + 0.013*\"white\" + 0.013*\"2\" + 0.012*\"opening\" + 0.012*\"pawn\" + 0.012*\"queen\" + 0.011*\"variation\" + 0.010*\"3\" + 0.009*\"4\" + 0.009*\"c4\" + 0.009*\"gambit\" + 0.007*\"d4\"'),\n",
       " (9,\n",
       "  '0.026*\"indian\" + 0.026*\"king\" + 0.020*\"chess\" + 0.017*\"0\" + 0.017*\"white\" + 0.013*\"black\" + 0.013*\"defence\" + 0.013*\"variation\" + 0.012*\"7\" + 0.012*\"6\" + 0.009*\"attack\" + 0.009*\"8\" + 0.008*\"opening\" + 0.008*\"9\" + 0.008*\"5\"')]"
      ]
     },
     "execution_count": 3,
     "metadata": {},
     "output_type": "execute_result"
    }
   ],
   "source": [
    "opening_lda.lda_model.print_topics(num_words=15)"
   ]
  },
  {
   "cell_type": "code",
   "execution_count": 4,
   "metadata": {},
   "outputs": [],
   "source": [
    "opening_lda.save('lda1')"
   ]
  },
  {
   "cell_type": "code",
   "execution_count": 5,
   "metadata": {},
   "outputs": [],
   "source": [
    "opening_lda2 = OpeningLDA.load('lda1')"
   ]
  },
  {
   "cell_type": "code",
   "execution_count": 6,
   "metadata": {},
   "outputs": [
    {
     "data": {
      "text/plain": [
       "[(0,\n",
       "  '0.020*\"3\" + 0.019*\"black\" + 0.017*\"white\" + 0.016*\"chess\" + 0.016*\"4\" + 0.016*\"variation\" + 0.012*\"5\" + 0.012*\"2\" + 0.011*\"defence\" + 0.010*\"1\" + 0.010*\"6\" + 0.010*\"pawn\" + 0.009*\"e4\" + 0.009*\"d4\" + 0.009*\"7\"'),\n",
       " (1,\n",
       "  '0.036*\"chess\" + 0.015*\"opening\" + 0.014*\"3\" + 0.014*\"defence\" + 0.013*\"2\" + 0.013*\"1\" + 0.011*\"0\" + 0.011*\"4\" + 0.011*\"pawn\" + 0.010*\"black\" + 0.010*\"white\" + 0.009*\"gambit\" + 0.008*\"game\" + 0.008*\"d4\" + 0.008*\"attack\"'),\n",
       " (2,\n",
       "  '0.019*\"black\" + 0.018*\"white\" + 0.017*\"3\" + 0.017*\"2\" + 0.016*\"chess\" + 0.016*\"variation\" + 0.014*\"5\" + 0.014*\"6\" + 0.013*\"sicilian\" + 0.011*\"4\" + 0.010*\"1\" + 0.008*\"d4\" + 0.008*\"pawn\" + 0.007*\"7\" + 0.007*\"0\"'),\n",
       " (3,\n",
       "  '0.002*\"black\" + 0.002*\"chess\" + 0.001*\"defence\" + 0.001*\"1\" + 0.001*\"2\" + 0.001*\"5\" + 0.001*\"white\" + 0.001*\"0\" + 0.001*\"variation\" + 0.001*\"3\" + 0.001*\"pawn\" + 0.001*\"6\" + 0.001*\"gambit\" + 0.001*\"7\" + 0.001*\"king\"'),\n",
       " (4,\n",
       "  '0.022*\"4\" + 0.022*\"white\" + 0.018*\"black\" + 0.017*\"0\" + 0.016*\"5\" + 0.016*\"chess\" + 0.015*\"variation\" + 0.013*\"gambit\" + 0.012*\"6\" + 0.010*\"3\" + 0.009*\"7\" + 0.009*\"pawn\" + 0.009*\"d5\" + 0.008*\"king\" + 0.008*\"8\"'),\n",
       " (5,\n",
       "  '0.021*\"black\" + 0.020*\"white\" + 0.012*\"4\" + 0.012*\"pawn\" + 0.011*\"6\" + 0.011*\"chess\" + 0.011*\"5\" + 0.010*\"7\" + 0.009*\"p\" + 0.009*\"0\" + 0.008*\"gambit\" + 0.008*\"8\" + 0.007*\"10\" + 0.006*\"9\" + 0.006*\"11\"'),\n",
       " (6,\n",
       "  '0.003*\"chess\" + 0.002*\"black\" + 0.002*\"white\" + 0.002*\"variation\" + 0.002*\"3\" + 0.002*\"6\" + 0.002*\"0\" + 0.002*\"1\" + 0.002*\"defence\" + 0.002*\"2\" + 0.002*\"4\" + 0.001*\"5\" + 0.001*\"d4\" + 0.001*\"pawn\" + 0.001*\"opening\"'),\n",
       " (7,\n",
       "  '0.004*\"3\" + 0.004*\"black\" + 0.003*\"chess\" + 0.003*\"defence\" + 0.003*\"2\" + 0.003*\"1\" + 0.003*\"white\" + 0.002*\"nf3\" + 0.002*\"0\" + 0.002*\"pawn\" + 0.002*\"attack\" + 0.002*\"6\" + 0.002*\"variation\" + 0.001*\"opening\" + 0.001*\"5\"'),\n",
       " (8,\n",
       "  '0.029*\"chess\" + 0.018*\"1\" + 0.015*\"defence\" + 0.014*\"black\" + 0.013*\"white\" + 0.013*\"2\" + 0.012*\"opening\" + 0.012*\"pawn\" + 0.012*\"queen\" + 0.011*\"variation\" + 0.010*\"3\" + 0.009*\"4\" + 0.009*\"c4\" + 0.009*\"gambit\" + 0.007*\"d4\"'),\n",
       " (9,\n",
       "  '0.026*\"indian\" + 0.026*\"king\" + 0.020*\"chess\" + 0.017*\"0\" + 0.017*\"white\" + 0.013*\"black\" + 0.013*\"defence\" + 0.013*\"variation\" + 0.012*\"7\" + 0.012*\"6\" + 0.009*\"attack\" + 0.009*\"8\" + 0.008*\"opening\" + 0.008*\"9\" + 0.008*\"5\"')]"
      ]
     },
     "execution_count": 6,
     "metadata": {},
     "output_type": "execute_result"
    }
   ],
   "source": [
    "opening_lda2.lda_model.print_topics(num_words=15)"
   ]
  }
 ],
 "metadata": {
  "kernelspec": {
   "display_name": "Python 3",
   "language": "python",
   "name": "python3"
  },
  "language_info": {
   "codemirror_mode": {
    "name": "ipython",
    "version": 3
   },
   "file_extension": ".py",
   "mimetype": "text/x-python",
   "name": "python",
   "nbconvert_exporter": "python",
   "pygments_lexer": "ipython3",
   "version": "3.11.1"
  }
 },
 "nbformat": 4,
 "nbformat_minor": 2
}
