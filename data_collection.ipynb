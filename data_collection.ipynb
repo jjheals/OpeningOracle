{
 "cells": [
  {
   "cell_type": "markdown",
   "metadata": {},
   "source": [
    "## Collecting all data"
   ]
  },
  {
   "cell_type": "code",
   "execution_count": 1,
   "metadata": {},
   "outputs": [
    {
     "name": "stdout",
     "output_type": "stream",
     "text": [
      "NOTICE: Collector - Starting data collection.\n",
      "Scraper: done getting openings.\n",
      "Saved 120 results to \"data/jsons/openings.json.\"\n",
      "Processing openings dataset\n",
      "NOTICE: Collector - Done getting openings from Scraper, Lichess dataset, & Openings dataset.\n",
      "NOTICE: Collector - Saving Openings to \"data/jsons/openings.json\". Starting to scrape descriptions.\n",
      "Scraping 496 openings...\n",
      "Done scraping for \"B03\", \"Alekhine Defense\" (1/496)\n",
      "Done scraping for \"B02\", \"Alekhine Defense\" (2/496)\n",
      "Done scraping for \"B04\", \"Alekhine Defense\" (3/496)\n",
      "Done scraping for \"B05\", \"Alekhine Defense\" (4/496)\n",
      "Done scraping for \"A00\", \"Anderssen Opening\" (5/496)\n",
      "Done scraping for \"A57\", \"Benko Gambit\" (6/496)\n",
      "Done scraping for \"A58\", \"Benko Gambit\" (7/496)\n",
      "Done scraping for \"A59\", \"Benko Gambit\" (8/496)\n",
      "Done scraping for \"A43\", \"Benoni Defense\" (9/496)\n",
      "Done scraping for \"A75\", \"Benoni Defense\" (10/496)\n",
      "Done scraping for \"A71\", \"Benoni Defense\" (11/496)\n"
     ]
    }
   ],
   "source": [
    "from data.Collector import Collector\n",
    "\n",
    "collector = Collector()\n",
    "collector.collect_all_data()"
   ]
  },
  {
   "cell_type": "markdown",
   "metadata": {},
   "source": []
  },
  {
   "cell_type": "code",
   "execution_count": null,
   "metadata": {},
   "outputs": [],
   "source": [
    "import pandas as pd\n",
    "from scraper.Paths import Paths"
   ]
  },
  {
   "cell_type": "code",
   "execution_count": null,
   "metadata": {},
   "outputs": [],
   "source": [
    "openings_df = pd.read_csv(Paths.OPENINGS_DATASET)\n",
    "\n",
    "# Cut this df down to the colunns we care about \n",
    "openings_df = openings_df[['opening_name', 'side', 'ECO', 'perc_white_win', 'perc_draw', 'perc_black_win', 'move1w', 'move1b', 'move2w', 'move2b', 'move3w', 'move3b', 'move4w', 'move4b', ]]\n",
    "openings_df.head()"
   ]
  },
  {
   "cell_type": "code",
   "execution_count": null,
   "metadata": {},
   "outputs": [],
   "source": [
    "matches = openings_df.loc[openings_df['ECO'] == 'A00']\n",
    "for n in matches['opening_name']: print(n)"
   ]
  }
 ],
 "metadata": {
  "kernelspec": {
   "display_name": "Python 3",
   "language": "python",
   "name": "python3"
  },
  "language_info": {
   "codemirror_mode": {
    "name": "ipython",
    "version": 3
   },
   "file_extension": ".py",
   "mimetype": "text/x-python",
   "name": "python",
   "nbconvert_exporter": "python",
   "pygments_lexer": "ipython3",
   "version": "3.11.1"
  }
 },
 "nbformat": 4,
 "nbformat_minor": 2
}
